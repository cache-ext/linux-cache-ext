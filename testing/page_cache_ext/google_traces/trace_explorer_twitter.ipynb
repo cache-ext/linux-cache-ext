{
 "cells": [
  {
   "cell_type": "code",
   "execution_count": 119,
   "metadata": {},
   "outputs": [],
   "source": [
    "import os\n",
    "import math\n",
    "import string\n",
    "import random\n",
    "import requests\n",
    "import numpy as np\n",
    "import pandas as pd\n",
    "from subprocess import run\n",
    "import multiprocessing as mp\n",
    "\n",
    "from copy import deepcopy\n",
    "from ruamel.yaml import YAML\n",
    "from tqdm import tqdm_notebook as tqdm\n",
    "from typing import List, Dict, Any, Tuple\n",
    "\n",
    "\n",
    "yaml = YAML()\n",
    "random.seed(42)"
   ]
  },
  {
   "cell_type": "code",
   "execution_count": 120,
   "metadata": {},
   "outputs": [],
   "source": [
    "# Helper functions\n",
    "\n",
    "KiB = 2**10\n",
    "MiB = 2**20\n",
    "GiB = 2**30\n",
    "\n",
    "\n",
    "def download_to_file(url: str, file: str):\n",
    "    with requests.get(url, stream=True) as r:\n",
    "        r.raise_for_status()\n",
    "        with open(file, 'wb') as f:\n",
    "            for chunk in r.iter_content(chunk_size=8192):\n",
    "                f.write(chunk)\n",
    "\n",
    "\n",
    "def format_number(num: int) -> str:\n",
    "    \"\"\"Format a number with commas.\"\"\"\n",
    "    return \"{:,}\".format(num)\n",
    "\n",
    "\n",
    "def format_bytes(num_bytes: int) -> str:\n",
    "    \"\"\"Format bytes in human-readable form.\"\"\"\n",
    "    for unit in [\"B\", \"KB\", \"MB\", \"GB\", \"TB\"]:\n",
    "        if num_bytes < 1024:\n",
    "            return f\"{num_bytes:.2f} {unit}\"\n",
    "        num_bytes /= 1024\n",
    "    return f\"{num_bytes:.2f} PB\"\n"
   ]
  },
  {
   "cell_type": "code",
   "execution_count": 121,
   "metadata": {
    "tags": [
     "parameters"
    ]
   },
   "outputs": [],
   "source": [
    "# Inputs\n",
    "\n",
    "# Previous Inputs:\n",
    "# - cluster_17, 0, 12M rows\n",
    "# - cluster_34, 0, 20M rows\n",
    "# - cluster_52, 0, 20M rows\n",
    "\n",
    "# Trace file (zstd compressed)\n",
    "cluster_name = \"cluster34\"\n",
    "# part = 0\n",
    "trace_file = \"/mydata/twitter_traces/%s\" % cluster_name\n",
    "compressed_trace_file = \"%s.sort.zst\" % trace_file\n",
    "num_rows_to_keep = 20 * 10**6\n",
    "\n",
    "init_workload_file = trace_file + \"_init.txt\"\n",
    "bench_workload_file = trace_file + \"_bench.txt\"\n",
    "\n",
    "# Trace analysis\n",
    "analyze_trace = False\n",
    "\n",
    "create_data_dir = True\n",
    "myycsb_init_yaml_file = \"/mydata/My-YCSB/leveldb/config/twitter_%s_init.yaml\" % cluster_name\n",
    "myycsb_bench_yaml_file = \"/mydata/My-YCSB/leveldb/config/twitter_%s_bench.yaml\" % cluster_name\n",
    "data_dir = \"/mydata/leveldb_twitter_%s_db\" % cluster_name\n"
   ]
  },
  {
   "cell_type": "code",
   "execution_count": 122,
   "metadata": {},
   "outputs": [],
   "source": [
    "download_tmpl = \"https://ftp.pdl.cmu.edu/pub/datasets/twemcacheWorkload/open_source/%s.sort.zst\"\n",
    "if not os.path.exists(compressed_trace_file):\n",
    "    print(\"Downloading trace file\")\n",
    "    download_to_file(download_tmpl % cluster_name, compressed_trace_file)"
   ]
  },
  {
   "cell_type": "code",
   "execution_count": 123,
   "metadata": {},
   "outputs": [
    {
     "name": "stdout",
     "output_type": "stream",
     "text": [
      "Trace rows:  20000000\n"
     ]
    }
   ],
   "source": [
    "# Parse trace file into pandas dataframe\n",
    "# Line format is comma separated:\n",
    "# timestamp, key, key size, value size, client id, operation, ttl\n",
    "columns = [\"timestamp\", \"key\", \"key_size\", \"value_size\", \"client_id\", \"op_type\", \"ttl\"]\n",
    "trace = pd.read_csv(compressed_trace_file, names=columns, index_col=False, compression=\"zstd\", nrows=num_rows_to_keep, on_bad_lines=\"warn\")\n",
    "print(\"Trace rows: \", len(trace))"
   ]
  },
  {
   "cell_type": "code",
   "execution_count": 124,
   "metadata": {},
   "outputs": [
    {
     "name": "stdout",
     "output_type": "stream",
     "text": [
      "Mean value size:  458\n",
      "Median value size:  1\n",
      "Mean key size:  32\n",
      "Median key size:  33\n",
      "Key size:  32\n",
      "Value size:  458\n"
     ]
    }
   ],
   "source": [
    "# Print mean and median value size. Make sure keys first.\n",
    "# Calculate mean and median value sizes\n",
    "mean_value_size = trace.groupby(\"key\")[\"value_size\"].mean().mean()\n",
    "median_value_size = trace.groupby(\"key\")[\"value_size\"].median().median()\n",
    "\n",
    "print(\"Mean value size: \", int(mean_value_size))\n",
    "print(\"Median value size: \", int(median_value_size))\n",
    "\n",
    "# Convert key_size to numeric, dropping any non-numeric values\n",
    "temp_trace = trace.copy()\n",
    "temp_trace[\"key_size\"] = pd.to_numeric(temp_trace[\"key_size\"], errors=\"coerce\")\n",
    "# Keep only rows where key_size is not null (was successfully converted to numeric)\n",
    "temp_trace = temp_trace[temp_trace[\"key_size\"].notna()]\n",
    "\n",
    "\n",
    "# Calculate mean and median key sizes\n",
    "mean_key_size = temp_trace.groupby(\"key\")[\"key_size\"].mean().mean()\n",
    "median_key_size = temp_trace.groupby(\"key\")[\"key_size\"].median().median()\n",
    "\n",
    "print(\"Mean key size: \", int(mean_key_size))\n",
    "print(\"Median key size: \", int(median_key_size))\n",
    "\n",
    "key_size = int(mean_key_size)\n",
    "value_size = int(mean_value_size)\n",
    "\n",
    "print(\"Key size: \", key_size)\n",
    "print(\"Value size: \", value_size)\n"
   ]
  },
  {
   "cell_type": "code",
   "execution_count": 125,
   "metadata": {},
   "outputs": [
    {
     "name": "stdout",
     "output_type": "stream",
     "text": [
      "Working set size:  2.04 GB\n"
     ]
    }
   ],
   "source": [
    "# How big is the working set?\n",
    "num_unique_keys = trace[\"key\"].nunique()\n",
    "wss = num_unique_keys * (key_size + value_size)\n",
    "print(\"Working set size: \", format_bytes(wss))"
   ]
  },
  {
   "cell_type": "code",
   "execution_count": 126,
   "metadata": {},
   "outputs": [
    {
     "name": "stdout",
     "output_type": "stream",
     "text": [
      "Timestamps are ordered: True\n",
      "Trace has 20,000,000 rows, no truncation needed\n"
     ]
    }
   ],
   "source": [
    "# Check if timestamp column is ordered\n",
    "# Check if timestamps are monotonically increasing\n",
    "is_ordered = trace[\"timestamp\"].is_monotonic_increasing\n",
    "print(\"Timestamps are ordered:\", is_ordered)\n",
    "\n",
    "if not is_ordered:\n",
    "    raise ValueError(\"Timestamps are not ordered\")\n",
    "\n",
    "# Keep only first num_rows_to_keep rows\n",
    "if len(trace) > num_rows_to_keep:\n",
    "    print(f\"Keeping first {num_rows_to_keep:,} rows out of {len(trace):,} total rows\")\n",
    "    trace = trace.head(num_rows_to_keep)\n",
    "else:\n",
    "    print(f\"Trace has {len(trace):,} rows, no truncation needed\")"
   ]
  },
  {
   "cell_type": "code",
   "execution_count": 127,
   "metadata": {},
   "outputs": [],
   "source": [
    "if analyze_trace:\n",
    "    # Print a list of value sizes and their counts in decreasing order\n",
    "    value_size_counts = trace[\"value_size\"].value_counts()\n",
    "    print(\"Value size counts:\")\n",
    "    print(value_size_counts)\n",
    "\n",
    "    key_size_counts = trace[\"key_size\"].value_counts()\n",
    "    print(\"Key size counts:\")\n",
    "    print(key_size_counts)"
   ]
  },
  {
   "cell_type": "code",
   "execution_count": 128,
   "metadata": {},
   "outputs": [],
   "source": [
    "if analyze_trace:\n",
    "    # How many lines is the trace?\n",
    "    print(\"Number of lines in trace: %d\" % len(trace))\n",
    "\n",
    "    # What is the proportion of read and write operations?\n",
    "    read_ops = len(trace[trace[\"op_type\"] == \"get\"])\n",
    "    write_ops = len(trace[trace[\"op_type\"] == \"set\"])\n",
    "    print(\"Read operations: %d\" % read_ops)\n",
    "    print(\"Write operations: %d\" % write_ops)\n",
    "    print(\"Read proportion: %.2f%%\" % (100 * read_ops / (read_ops + write_ops)))\n"
   ]
  },
  {
   "cell_type": "code",
   "execution_count": 129,
   "metadata": {},
   "outputs": [
    {
     "name": "stdout",
     "output_type": "stream",
     "text": [
      "Writing keys to file\n"
     ]
    }
   ],
   "source": [
    "# Prefix pad keys with zeros to make them the same length.\n",
    "# Alternatively, trim keys to a fixed length.\n",
    "def pad_key(key: str, target_size: int) -> str:\n",
    "    # If key is longer than target size, truncate it\n",
    "    if len(key) > target_size:\n",
    "        return key[:target_size]\n",
    "    # If key is shorter than target size, pad with zeros\n",
    "    return key.zfill(target_size)\n",
    "\n",
    "\n",
    "# Pad trace keys to a fixed size\n",
    "trace[\"key\"] = trace[\"key\"].apply(lambda x: pad_key(x, key_size))\n",
    "\n",
    "def generate_init_workload(trace: pd.DataFrame, filename: str) -> None:\n",
    "    # Construct the init workload file\n",
    "    # Each line is a key\n",
    "    # All keys and values are the same size\n",
    "    trace_keys = list(trace[\"key\"].unique())\n",
    "\n",
    "    # Permuate the keys\n",
    "    random.shuffle(trace_keys)\n",
    "\n",
    "    # Write keys to file\n",
    "    print(\"Writing keys to file\")\n",
    "    with open(filename, \"w\") as f:\n",
    "        for key in trace_keys:\n",
    "            f.write(key + \"\\n\")\n",
    "\n",
    "generate_init_workload(trace, init_workload_file)\n"
   ]
  },
  {
   "cell_type": "code",
   "execution_count": 131,
   "metadata": {},
   "outputs": [
    {
     "name": "stdout",
     "output_type": "stream",
     "text": [
      "Generating bench workload\n"
     ]
    },
    {
     "name": "stderr",
     "output_type": "stream",
     "text": [
      "/tmp/ipykernel_413935/3624191965.py:12: TqdmDeprecationWarning: This function will be removed in tqdm==5.0.0\n",
      "Please use `tqdm.notebook.tqdm` instead of `tqdm.tqdm_notebook`\n",
      "  for _, row in tqdm(trace.iterrows(), total=len(trace), desc=\"Writing operations\"):\n"
     ]
    },
    {
     "data": {
      "application/vnd.jupyter.widget-view+json": {
       "model_id": "08c1c2b695fc4ec68dd22931d41ef85a",
       "version_major": 2,
       "version_minor": 0
      },
      "text/plain": [
       "Writing operations:   0%|          | 0/20000000 [00:00<?, ?it/s]"
      ]
     },
     "metadata": {},
     "output_type": "display_data"
    },
    {
     "ename": "KeyboardInterrupt",
     "evalue": "",
     "output_type": "error",
     "traceback": [
      "\u001b[0;31m---------------------------------------------------------------------------\u001b[0m",
      "\u001b[0;31mKeyboardInterrupt\u001b[0m                         Traceback (most recent call last)",
      "Cell \u001b[0;32mIn[131], line 26\u001b[0m\n\u001b[1;32m     22\u001b[0m     \u001b[38;5;28mprint\u001b[39m(\u001b[38;5;124m\"\u001b[39m\u001b[38;5;124mDone generating bench workload\u001b[39m\u001b[38;5;124m\"\u001b[39m)\n\u001b[1;32m     25\u001b[0m \u001b[38;5;28;01mif\u001b[39;00m \u001b[38;5;129;01mnot\u001b[39;00m os\u001b[38;5;241m.\u001b[39mpath\u001b[38;5;241m.\u001b[39mexists(bench_workload_file):\n\u001b[0;32m---> 26\u001b[0m     \u001b[43mgenerate_bench_workload\u001b[49m\u001b[43m(\u001b[49m\u001b[43mtrace\u001b[49m\u001b[43m,\u001b[49m\u001b[43m \u001b[49m\u001b[43mbench_workload_file\u001b[49m\u001b[43m)\u001b[49m\n\u001b[1;32m     27\u001b[0m \u001b[38;5;28;01melse\u001b[39;00m:\n\u001b[1;32m     28\u001b[0m     \u001b[38;5;28mprint\u001b[39m(\u001b[38;5;124m\"\u001b[39m\u001b[38;5;124mBench workload file already exists\u001b[39m\u001b[38;5;124m\"\u001b[39m)\n",
      "Cell \u001b[0;32mIn[131], line 12\u001b[0m, in \u001b[0;36mgenerate_bench_workload\u001b[0;34m(trace, filename)\u001b[0m\n\u001b[1;32m      8\u001b[0m \u001b[38;5;28mprint\u001b[39m(\u001b[38;5;124m\"\u001b[39m\u001b[38;5;124mGenerating bench workload\u001b[39m\u001b[38;5;124m\"\u001b[39m)\n\u001b[1;32m     10\u001b[0m \u001b[38;5;28;01mwith\u001b[39;00m \u001b[38;5;28mopen\u001b[39m(filename, \u001b[38;5;124m\"\u001b[39m\u001b[38;5;124mw\u001b[39m\u001b[38;5;124m\"\u001b[39m) \u001b[38;5;28;01mas\u001b[39;00m f:\n\u001b[1;32m     11\u001b[0m     \u001b[38;5;66;03m# Iterate through trace rows with progress bar\u001b[39;00m\n\u001b[0;32m---> 12\u001b[0m     \u001b[38;5;28;01mfor\u001b[39;00m _, row \u001b[38;5;129;01min\u001b[39;00m tqdm(trace\u001b[38;5;241m.\u001b[39miterrows(), total\u001b[38;5;241m=\u001b[39m\u001b[38;5;28mlen\u001b[39m(trace), desc\u001b[38;5;241m=\u001b[39m\u001b[38;5;124m\"\u001b[39m\u001b[38;5;124mWriting operations\u001b[39m\u001b[38;5;124m\"\u001b[39m):\n\u001b[1;32m     13\u001b[0m         key \u001b[38;5;241m=\u001b[39m row[\u001b[38;5;124m\"\u001b[39m\u001b[38;5;124mkey\u001b[39m\u001b[38;5;124m\"\u001b[39m]\n\u001b[1;32m     14\u001b[0m         \u001b[38;5;66;03m# Write operation and key\u001b[39;00m\n",
      "File \u001b[0;32m~/venv/lib/python3.10/site-packages/tqdm/notebook.py:250\u001b[0m, in \u001b[0;36mtqdm_notebook.__iter__\u001b[0;34m(self)\u001b[0m\n\u001b[1;32m    248\u001b[0m \u001b[38;5;28;01mtry\u001b[39;00m:\n\u001b[1;32m    249\u001b[0m     it \u001b[38;5;241m=\u001b[39m \u001b[38;5;28msuper\u001b[39m()\u001b[38;5;241m.\u001b[39m\u001b[38;5;21m__iter__\u001b[39m()\n\u001b[0;32m--> 250\u001b[0m     \u001b[38;5;28;01mfor\u001b[39;00m obj \u001b[38;5;129;01min\u001b[39;00m it:\n\u001b[1;32m    251\u001b[0m         \u001b[38;5;66;03m# return super(tqdm...) will not catch exception\u001b[39;00m\n\u001b[1;32m    252\u001b[0m         \u001b[38;5;28;01myield\u001b[39;00m obj\n\u001b[1;32m    253\u001b[0m \u001b[38;5;66;03m# NB: except ... [ as ...] breaks IPython async KeyboardInterrupt\u001b[39;00m\n",
      "File \u001b[0;32m~/venv/lib/python3.10/site-packages/tqdm/std.py:1181\u001b[0m, in \u001b[0;36mtqdm.__iter__\u001b[0;34m(self)\u001b[0m\n\u001b[1;32m   1178\u001b[0m time \u001b[38;5;241m=\u001b[39m \u001b[38;5;28mself\u001b[39m\u001b[38;5;241m.\u001b[39m_time\n\u001b[1;32m   1180\u001b[0m \u001b[38;5;28;01mtry\u001b[39;00m:\n\u001b[0;32m-> 1181\u001b[0m     \u001b[38;5;28;01mfor\u001b[39;00m obj \u001b[38;5;129;01min\u001b[39;00m iterable:\n\u001b[1;32m   1182\u001b[0m         \u001b[38;5;28;01myield\u001b[39;00m obj\n\u001b[1;32m   1183\u001b[0m         \u001b[38;5;66;03m# Update and possibly print the progressbar.\u001b[39;00m\n\u001b[1;32m   1184\u001b[0m         \u001b[38;5;66;03m# Note: does not call self.update(1) for speed optimisation.\u001b[39;00m\n",
      "File \u001b[0;32m~/venv/lib/python3.10/site-packages/pandas/core/frame.py:1554\u001b[0m, in \u001b[0;36mDataFrame.iterrows\u001b[0;34m(self)\u001b[0m\n\u001b[1;32m   1552\u001b[0m using_cow \u001b[38;5;241m=\u001b[39m using_copy_on_write()\n\u001b[1;32m   1553\u001b[0m \u001b[38;5;28;01mfor\u001b[39;00m k, v \u001b[38;5;129;01min\u001b[39;00m \u001b[38;5;28mzip\u001b[39m(\u001b[38;5;28mself\u001b[39m\u001b[38;5;241m.\u001b[39mindex, \u001b[38;5;28mself\u001b[39m\u001b[38;5;241m.\u001b[39mvalues):\n\u001b[0;32m-> 1554\u001b[0m     s \u001b[38;5;241m=\u001b[39m \u001b[43mklass\u001b[49m\u001b[43m(\u001b[49m\u001b[43mv\u001b[49m\u001b[43m,\u001b[49m\u001b[43m \u001b[49m\u001b[43mindex\u001b[49m\u001b[38;5;241;43m=\u001b[39;49m\u001b[43mcolumns\u001b[49m\u001b[43m,\u001b[49m\u001b[43m \u001b[49m\u001b[43mname\u001b[49m\u001b[38;5;241;43m=\u001b[39;49m\u001b[43mk\u001b[49m\u001b[43m)\u001b[49m\u001b[38;5;241m.\u001b[39m__finalize__(\u001b[38;5;28mself\u001b[39m)\n\u001b[1;32m   1555\u001b[0m     \u001b[38;5;28;01mif\u001b[39;00m using_cow \u001b[38;5;129;01mand\u001b[39;00m \u001b[38;5;28mself\u001b[39m\u001b[38;5;241m.\u001b[39m_mgr\u001b[38;5;241m.\u001b[39mis_single_block:\n\u001b[1;32m   1556\u001b[0m         s\u001b[38;5;241m.\u001b[39m_mgr\u001b[38;5;241m.\u001b[39madd_references(\u001b[38;5;28mself\u001b[39m\u001b[38;5;241m.\u001b[39m_mgr)  \u001b[38;5;66;03m# type: ignore[arg-type]\u001b[39;00m\n",
      "File \u001b[0;32m~/venv/lib/python3.10/site-packages/pandas/core/series.py:584\u001b[0m, in \u001b[0;36mSeries.__init__\u001b[0;34m(self, data, index, dtype, name, copy, fastpath)\u001b[0m\n\u001b[1;32m    582\u001b[0m         data \u001b[38;5;241m=\u001b[39m data\u001b[38;5;241m.\u001b[39mcopy()\n\u001b[1;32m    583\u001b[0m \u001b[38;5;28;01melse\u001b[39;00m:\n\u001b[0;32m--> 584\u001b[0m     data \u001b[38;5;241m=\u001b[39m \u001b[43msanitize_array\u001b[49m\u001b[43m(\u001b[49m\u001b[43mdata\u001b[49m\u001b[43m,\u001b[49m\u001b[43m \u001b[49m\u001b[43mindex\u001b[49m\u001b[43m,\u001b[49m\u001b[43m \u001b[49m\u001b[43mdtype\u001b[49m\u001b[43m,\u001b[49m\u001b[43m \u001b[49m\u001b[43mcopy\u001b[49m\u001b[43m)\u001b[49m\n\u001b[1;32m    586\u001b[0m     manager \u001b[38;5;241m=\u001b[39m _get_option(\u001b[38;5;124m\"\u001b[39m\u001b[38;5;124mmode.data_manager\u001b[39m\u001b[38;5;124m\"\u001b[39m, silent\u001b[38;5;241m=\u001b[39m\u001b[38;5;28;01mTrue\u001b[39;00m)\n\u001b[1;32m    587\u001b[0m     \u001b[38;5;28;01mif\u001b[39;00m manager \u001b[38;5;241m==\u001b[39m \u001b[38;5;124m\"\u001b[39m\u001b[38;5;124mblock\u001b[39m\u001b[38;5;124m\"\u001b[39m:\n",
      "File \u001b[0;32m~/venv/lib/python3.10/site-packages/pandas/core/construction.py:606\u001b[0m, in \u001b[0;36msanitize_array\u001b[0;34m(data, index, dtype, copy, allow_2d)\u001b[0m\n\u001b[1;32m    604\u001b[0m subarr \u001b[38;5;241m=\u001b[39m data\n\u001b[1;32m    605\u001b[0m \u001b[38;5;28;01mif\u001b[39;00m data\u001b[38;5;241m.\u001b[39mdtype \u001b[38;5;241m==\u001b[39m \u001b[38;5;28mobject\u001b[39m:\n\u001b[0;32m--> 606\u001b[0m     subarr \u001b[38;5;241m=\u001b[39m \u001b[43mmaybe_infer_to_datetimelike\u001b[49m\u001b[43m(\u001b[49m\u001b[43mdata\u001b[49m\u001b[43m)\u001b[49m\n\u001b[1;32m    607\u001b[0m     \u001b[38;5;28;01mif\u001b[39;00m (\n\u001b[1;32m    608\u001b[0m         object_index\n\u001b[1;32m    609\u001b[0m         \u001b[38;5;129;01mand\u001b[39;00m using_pyarrow_string_dtype()\n\u001b[1;32m    610\u001b[0m         \u001b[38;5;129;01mand\u001b[39;00m is_string_dtype(subarr)\n\u001b[1;32m    611\u001b[0m     ):\n\u001b[1;32m    612\u001b[0m         \u001b[38;5;66;03m# Avoid inference when string option is set\u001b[39;00m\n\u001b[1;32m    613\u001b[0m         subarr \u001b[38;5;241m=\u001b[39m data\n",
      "File \u001b[0;32m~/venv/lib/python3.10/site-packages/pandas/core/dtypes/cast.py:1189\u001b[0m, in \u001b[0;36mmaybe_infer_to_datetimelike\u001b[0;34m(value)\u001b[0m\n\u001b[1;32m   1184\u001b[0m     \u001b[38;5;28;01mreturn\u001b[39;00m value\n\u001b[1;32m   1186\u001b[0m \u001b[38;5;66;03m# error: Incompatible return value type (got \"Union[ExtensionArray,\u001b[39;00m\n\u001b[1;32m   1187\u001b[0m \u001b[38;5;66;03m# ndarray[Any, Any]]\", expected \"Union[ndarray[Any, Any], DatetimeArray,\u001b[39;00m\n\u001b[1;32m   1188\u001b[0m \u001b[38;5;66;03m# TimedeltaArray, PeriodArray, IntervalArray]\")\u001b[39;00m\n\u001b[0;32m-> 1189\u001b[0m \u001b[38;5;28;01mreturn\u001b[39;00m \u001b[43mlib\u001b[49m\u001b[38;5;241;43m.\u001b[39;49m\u001b[43mmaybe_convert_objects\u001b[49m\u001b[43m(\u001b[49m\u001b[43m  \u001b[49m\u001b[38;5;66;43;03m# type: ignore[return-value]\u001b[39;49;00m\n\u001b[1;32m   1190\u001b[0m \u001b[43m    \u001b[49m\u001b[43mvalue\u001b[49m\u001b[43m,\u001b[49m\n\u001b[1;32m   1191\u001b[0m \u001b[43m    \u001b[49m\u001b[38;5;66;43;03m# Here we do not convert numeric dtypes, as if we wanted that,\u001b[39;49;00m\n\u001b[1;32m   1192\u001b[0m \u001b[43m    \u001b[49m\u001b[38;5;66;43;03m#  numpy would have done it for us.\u001b[39;49;00m\n\u001b[1;32m   1193\u001b[0m \u001b[43m    \u001b[49m\u001b[43mconvert_numeric\u001b[49m\u001b[38;5;241;43m=\u001b[39;49m\u001b[38;5;28;43;01mFalse\u001b[39;49;00m\u001b[43m,\u001b[49m\n\u001b[1;32m   1194\u001b[0m \u001b[43m    \u001b[49m\u001b[43mconvert_non_numeric\u001b[49m\u001b[38;5;241;43m=\u001b[39;49m\u001b[38;5;28;43;01mTrue\u001b[39;49;00m\u001b[43m,\u001b[49m\n\u001b[1;32m   1195\u001b[0m \u001b[43m    \u001b[49m\u001b[43mdtype_if_all_nat\u001b[49m\u001b[38;5;241;43m=\u001b[39;49m\u001b[43mnp\u001b[49m\u001b[38;5;241;43m.\u001b[39;49m\u001b[43mdtype\u001b[49m\u001b[43m(\u001b[49m\u001b[38;5;124;43m\"\u001b[39;49m\u001b[38;5;124;43mM8[ns]\u001b[39;49m\u001b[38;5;124;43m\"\u001b[39;49m\u001b[43m)\u001b[49m\u001b[43m,\u001b[49m\n\u001b[1;32m   1196\u001b[0m \u001b[43m\u001b[49m\u001b[43m)\u001b[49m\n",
      "File \u001b[0;32mlib.pyx:2543\u001b[0m, in \u001b[0;36mpandas._libs.lib.maybe_convert_objects\u001b[0;34m()\u001b[0m\n",
      "File \u001b[0;32m~/venv/lib/python3.10/site-packages/numpy/_core/numeric.py:303\u001b[0m, in \u001b[0;36mfull\u001b[0;34m(shape, fill_value, dtype, order, device, like)\u001b[0m\n\u001b[1;32m    297\u001b[0m \u001b[38;5;28;01mdef\u001b[39;00m \u001b[38;5;21m_full_dispatcher\u001b[39m(\n\u001b[1;32m    298\u001b[0m     shape, fill_value, dtype\u001b[38;5;241m=\u001b[39m\u001b[38;5;28;01mNone\u001b[39;00m, order\u001b[38;5;241m=\u001b[39m\u001b[38;5;28;01mNone\u001b[39;00m, \u001b[38;5;241m*\u001b[39m, device\u001b[38;5;241m=\u001b[39m\u001b[38;5;28;01mNone\u001b[39;00m, like\u001b[38;5;241m=\u001b[39m\u001b[38;5;28;01mNone\u001b[39;00m\n\u001b[1;32m    299\u001b[0m ):\n\u001b[1;32m    300\u001b[0m     \u001b[38;5;28;01mreturn\u001b[39;00m(like,)\n\u001b[0;32m--> 303\u001b[0m \u001b[38;5;129m@set_array_function_like_doc\u001b[39m\n\u001b[1;32m    304\u001b[0m \u001b[38;5;129m@set_module\u001b[39m(\u001b[38;5;124m'\u001b[39m\u001b[38;5;124mnumpy\u001b[39m\u001b[38;5;124m'\u001b[39m)\n\u001b[1;32m    305\u001b[0m \u001b[38;5;28;01mdef\u001b[39;00m \u001b[38;5;21mfull\u001b[39m(shape, fill_value, dtype\u001b[38;5;241m=\u001b[39m\u001b[38;5;28;01mNone\u001b[39;00m, order\u001b[38;5;241m=\u001b[39m\u001b[38;5;124m'\u001b[39m\u001b[38;5;124mC\u001b[39m\u001b[38;5;124m'\u001b[39m, \u001b[38;5;241m*\u001b[39m, device\u001b[38;5;241m=\u001b[39m\u001b[38;5;28;01mNone\u001b[39;00m, like\u001b[38;5;241m=\u001b[39m\u001b[38;5;28;01mNone\u001b[39;00m):\n\u001b[1;32m    306\u001b[0m \u001b[38;5;250m    \u001b[39m\u001b[38;5;124;03m\"\"\"\u001b[39;00m\n\u001b[1;32m    307\u001b[0m \u001b[38;5;124;03m    Return a new array of given shape and type, filled with `fill_value`.\u001b[39;00m\n\u001b[1;32m    308\u001b[0m \n\u001b[0;32m   (...)\u001b[0m\n\u001b[1;32m    355\u001b[0m \n\u001b[1;32m    356\u001b[0m \u001b[38;5;124;03m    \"\"\"\u001b[39;00m\n\u001b[1;32m    357\u001b[0m     \u001b[38;5;28;01mif\u001b[39;00m like \u001b[38;5;129;01mis\u001b[39;00m \u001b[38;5;129;01mnot\u001b[39;00m \u001b[38;5;28;01mNone\u001b[39;00m:\n",
      "\u001b[0;31mKeyboardInterrupt\u001b[0m: "
     ]
    }
   ],
   "source": [
    "# Now generate the bench workload file\n",
    "# Each line is an operation followed by a key (space separated)\n",
    "# Operations are get or insert\n",
    "\n",
    "def generate_bench_workload(trace: pd.DataFrame, filename: str) -> None:\n",
    "    # Construct the bench workload file\n",
    "    # Each line is an operation followed by a key (space separated)\n",
    "    print(\"Generating bench workload\")\n",
    "\n",
    "    with open(filename, \"w\") as f:\n",
    "        # Iterate through trace rows with progress bar\n",
    "        for _, row in tqdm(trace.iterrows(), total=len(trace), desc=\"Writing operations\"):\n",
    "            key = row[\"key\"]\n",
    "            # Write operation and key\n",
    "            if row[\"op_type\"] == \"get\":\n",
    "                f.write(\"get \" + key + \"\\n\")\n",
    "            elif row[\"op_type\"] == \"cas\":\n",
    "                f.write(\"update \" + key + \"\\n\")\n",
    "            else:\n",
    "                f.write(\"insert \" + key + \"\\n\")\n",
    "\n",
    "    print(\"Done generating bench workload\")\n",
    "\n",
    "\n",
    "if not os.path.exists(bench_workload_file):\n",
    "    generate_bench_workload(trace, bench_workload_file)\n",
    "else:\n",
    "    print(\"Bench workload file already exists\")"
   ]
  },
  {
   "cell_type": "code",
   "execution_count": 132,
   "metadata": {},
   "outputs": [],
   "source": [
    "# Write a summary of the trace that might be useful later\n",
    "summary_file = trace_file + \"_summary.txt\"\n",
    "summary = {\n",
    "    \"num_rows\": len(trace),\n",
    "    \"key_size\": key_size,\n",
    "    \"value_size\": value_size,\n",
    "    \"num_unique_keys\": num_unique_keys,\n",
    "    \"working_set_size\": wss\n",
    "}\n",
    "\n",
    "if not os.path.exists(summary_file):\n",
    "    with open(summary_file, \"w\") as f:\n",
    "        yaml.dump(summary, f)\n",
    "else:\n",
    "    print(\"Summary file already exists\")"
   ]
  },
  {
   "cell_type": "code",
   "execution_count": 116,
   "metadata": {},
   "outputs": [],
   "source": [
    "libcachesim_dir = \"/mydata/libCacheSim\"\n",
    "trace_analyzer = os.path.join(libcachesim_dir, \"_build/bin/traceAnalyzer\")\n",
    "\n",
    "if not os.path.exists(trace_analyzer):\n",
    "    print(\"libCacheSim traceAnalyzer not found. Skipping trace analysis.\")\n",
    "elif analyze_trace:\n",
    "    cmd = [trace_analyzer, trace_file, \"csv\", \"--common\", \"-t\", \"time-col=1, obj-id-col=2, obj-size-col=4, delimiter=,, has-header=false\"]\n",
    "    print(\"Running trace analysis\")\n",
    "    run(cmd, check=True)"
   ]
  },
  {
   "cell_type": "code",
   "execution_count": 138,
   "metadata": {},
   "outputs": [
    {
     "name": "stdout",
     "output_type": "stream",
     "text": [
      "Data directory created\n",
      "Creating My-YCSB init YAML file\n",
      "Running My-YCSB init\n"
     ]
    },
    {
     "name": "stderr",
     "output_type": "stream",
     "text": [
      "LevelDBFactory: data_dir: /mydata/leveldb_twitter_cluster34_db, print_stats: 1\n",
      "InitTraceWorkload: trace_path=/mydata/twitter_traces/cluster34_init.txt, trace_type=twitter_init\n",
      "Number of lines in trace file: 4441304\n",
      "Key size: 33, Value size: 459\n"
     ]
    },
    {
     "name": "stdout",
     "output_type": "stream",
     "text": [
      "Initialization (trace) (epoch 0, progress 0.00%): UPDATE throughput 0.00 ops/sec, INSERT throughput 0.00 ops/sec, READ throughput 0.00 ops/sec, SCAN throughput 0.00 ops/sec, READ_MODIFY_WRITE throughput 0.00 ops/sec, total throughput 0.00 ops/sec\n",
      "Initialization (trace) (epoch 1, progress 1.58%): UPDATE throughput 0.00 ops/sec, INSERT throughput 70053.86 ops/sec, READ throughput 0.00 ops/sec, SCAN throughput 0.00 ops/sec, READ_MODIFY_WRITE throughput 0.00 ops/sec, total throughput 70053.86 ops/sec\n",
      "Initialization (trace) (epoch 2, progress 3.17%): UPDATE throughput 0.00 ops/sec, INSERT throughput 70894.55 ops/sec, READ throughput 0.00 ops/sec, SCAN throughput 0.00 ops/sec, READ_MODIFY_WRITE throughput 0.00 ops/sec, total throughput 70894.55 ops/sec\n",
      "Initialization (trace) (epoch 3, progress 4.66%): UPDATE throughput 0.00 ops/sec, INSERT throughput 65796.60 ops/sec, READ throughput 0.00 ops/sec, SCAN throughput 0.00 ops/sec, READ_MODIFY_WRITE throughput 0.00 ops/sec, total throughput 65796.60 ops/sec\n",
      "Initialization (trace) (epoch 4, progress 6.01%): UPDATE throughput 0.00 ops/sec, INSERT throughput 60005.86 ops/sec, READ throughput 0.00 ops/sec, SCAN throughput 0.00 ops/sec, READ_MODIFY_WRITE throughput 0.00 ops/sec, total throughput 60005.86 ops/sec\n",
      "Initialization (trace) (epoch 5, progress 7.27%): UPDATE throughput 0.00 ops/sec, INSERT throughput 56093.84 ops/sec, READ throughput 0.00 ops/sec, SCAN throughput 0.00 ops/sec, READ_MODIFY_WRITE throughput 0.00 ops/sec, total throughput 56093.84 ops/sec\n",
      "Initialization (trace) (epoch 6, progress 8.46%): UPDATE throughput 0.00 ops/sec, INSERT throughput 52703.78 ops/sec, READ throughput 0.00 ops/sec, SCAN throughput 0.00 ops/sec, READ_MODIFY_WRITE throughput 0.00 ops/sec, total throughput 52703.78 ops/sec\n",
      "Initialization (trace) (epoch 7, progress 9.51%): UPDATE throughput 0.00 ops/sec, INSERT throughput 46804.26 ops/sec, READ throughput 0.00 ops/sec, SCAN throughput 0.00 ops/sec, READ_MODIFY_WRITE throughput 0.00 ops/sec, total throughput 46804.26 ops/sec\n",
      "Initialization (trace) (epoch 8, progress 10.47%): UPDATE throughput 0.00 ops/sec, INSERT throughput 42670.95 ops/sec, READ throughput 0.00 ops/sec, SCAN throughput 0.00 ops/sec, READ_MODIFY_WRITE throughput 0.00 ops/sec, total throughput 42670.95 ops/sec\n",
      "Initialization (trace) (epoch 9, progress 11.29%): UPDATE throughput 0.00 ops/sec, INSERT throughput 36181.45 ops/sec, READ throughput 0.00 ops/sec, SCAN throughput 0.00 ops/sec, READ_MODIFY_WRITE throughput 0.00 ops/sec, total throughput 36181.45 ops/sec\n",
      "Initialization (trace) (epoch 10, progress 12.44%): UPDATE throughput 0.00 ops/sec, INSERT throughput 51276.46 ops/sec, READ throughput 0.00 ops/sec, SCAN throughput 0.00 ops/sec, READ_MODIFY_WRITE throughput 0.00 ops/sec, total throughput 51276.46 ops/sec\n",
      "Initialization (trace) (epoch 11, progress 13.52%): UPDATE throughput 0.00 ops/sec, INSERT throughput 47918.02 ops/sec, READ throughput 0.00 ops/sec, SCAN throughput 0.00 ops/sec, READ_MODIFY_WRITE throughput 0.00 ops/sec, total throughput 47918.02 ops/sec\n",
      "Initialization (trace) (epoch 12, progress 14.20%): UPDATE throughput 0.00 ops/sec, INSERT throughput 30022.81 ops/sec, READ throughput 0.00 ops/sec, SCAN throughput 0.00 ops/sec, READ_MODIFY_WRITE throughput 0.00 ops/sec, total throughput 30022.81 ops/sec\n",
      "Initialization (trace) (epoch 13, progress 15.03%): UPDATE throughput 0.00 ops/sec, INSERT throughput 37103.10 ops/sec, READ throughput 0.00 ops/sec, SCAN throughput 0.00 ops/sec, READ_MODIFY_WRITE throughput 0.00 ops/sec, total throughput 37103.10 ops/sec\n",
      "Initialization (trace) (epoch 14, progress 16.19%): UPDATE throughput 0.00 ops/sec, INSERT throughput 51454.44 ops/sec, READ throughput 0.00 ops/sec, SCAN throughput 0.00 ops/sec, READ_MODIFY_WRITE throughput 0.00 ops/sec, total throughput 51454.44 ops/sec\n",
      "Initialization (trace) (epoch 15, progress 16.64%): UPDATE throughput 0.00 ops/sec, INSERT throughput 19921.81 ops/sec, READ throughput 0.00 ops/sec, SCAN throughput 0.00 ops/sec, READ_MODIFY_WRITE throughput 0.00 ops/sec, total throughput 19921.81 ops/sec\n",
      "Initialization (trace) (epoch 16, progress 17.81%): UPDATE throughput 0.00 ops/sec, INSERT throughput 52165.78 ops/sec, READ throughput 0.00 ops/sec, SCAN throughput 0.00 ops/sec, READ_MODIFY_WRITE throughput 0.00 ops/sec, total throughput 52165.78 ops/sec\n",
      "Initialization (trace) (epoch 17, progress 18.73%): UPDATE throughput 0.00 ops/sec, INSERT throughput 40579.82 ops/sec, READ throughput 0.00 ops/sec, SCAN throughput 0.00 ops/sec, READ_MODIFY_WRITE throughput 0.00 ops/sec, total throughput 40579.82 ops/sec\n",
      "Initialization (trace) (epoch 18, progress 19.75%): UPDATE throughput 0.00 ops/sec, INSERT throughput 45328.92 ops/sec, READ throughput 0.00 ops/sec, SCAN throughput 0.00 ops/sec, READ_MODIFY_WRITE throughput 0.00 ops/sec, total throughput 45328.92 ops/sec\n",
      "Initialization (trace) (epoch 19, progress 20.45%): UPDATE throughput 0.00 ops/sec, INSERT throughput 31402.67 ops/sec, READ throughput 0.00 ops/sec, SCAN throughput 0.00 ops/sec, READ_MODIFY_WRITE throughput 0.00 ops/sec, total throughput 31402.67 ops/sec\n",
      "Initialization (trace) (epoch 20, progress 21.42%): UPDATE throughput 0.00 ops/sec, INSERT throughput 42995.14 ops/sec, READ throughput 0.00 ops/sec, SCAN throughput 0.00 ops/sec, READ_MODIFY_WRITE throughput 0.00 ops/sec, total throughput 42995.14 ops/sec\n",
      "Initialization (trace) (epoch 21, progress 22.59%): UPDATE throughput 0.00 ops/sec, INSERT throughput 51838.92 ops/sec, READ throughput 0.00 ops/sec, SCAN throughput 0.00 ops/sec, READ_MODIFY_WRITE throughput 0.00 ops/sec, total throughput 51838.92 ops/sec\n",
      "Initialization (trace) (epoch 22, progress 23.22%): UPDATE throughput 0.00 ops/sec, INSERT throughput 27863.19 ops/sec, READ throughput 0.00 ops/sec, SCAN throughput 0.00 ops/sec, READ_MODIFY_WRITE throughput 0.00 ops/sec, total throughput 27863.19 ops/sec\n",
      "Initialization (trace) (epoch 23, progress 24.20%): UPDATE throughput 0.00 ops/sec, INSERT throughput 43723.37 ops/sec, READ throughput 0.00 ops/sec, SCAN throughput 0.00 ops/sec, READ_MODIFY_WRITE throughput 0.00 ops/sec, total throughput 43723.37 ops/sec\n",
      "Initialization (trace) (epoch 24, progress 25.17%): UPDATE throughput 0.00 ops/sec, INSERT throughput 43102.08 ops/sec, READ throughput 0.00 ops/sec, SCAN throughput 0.00 ops/sec, READ_MODIFY_WRITE throughput 0.00 ops/sec, total throughput 43102.08 ops/sec\n",
      "Initialization (trace) (epoch 25, progress 26.45%): UPDATE throughput 0.00 ops/sec, INSERT throughput 56762.95 ops/sec, READ throughput 0.00 ops/sec, SCAN throughput 0.00 ops/sec, READ_MODIFY_WRITE throughput 0.00 ops/sec, total throughput 56762.95 ops/sec\n",
      "Initialization (trace) (epoch 26, progress 26.81%): UPDATE throughput 0.00 ops/sec, INSERT throughput 15868.65 ops/sec, READ throughput 0.00 ops/sec, SCAN throughput 0.00 ops/sec, READ_MODIFY_WRITE throughput 0.00 ops/sec, total throughput 15868.65 ops/sec\n",
      "Initialization (trace) (epoch 27, progress 27.82%): UPDATE throughput 0.00 ops/sec, INSERT throughput 44969.68 ops/sec, READ throughput 0.00 ops/sec, SCAN throughput 0.00 ops/sec, READ_MODIFY_WRITE throughput 0.00 ops/sec, total throughput 44969.68 ops/sec\n",
      "Initialization (trace) (epoch 28, progress 29.03%): UPDATE throughput 0.00 ops/sec, INSERT throughput 53856.67 ops/sec, READ throughput 0.00 ops/sec, SCAN throughput 0.00 ops/sec, READ_MODIFY_WRITE throughput 0.00 ops/sec, total throughput 53856.67 ops/sec\n",
      "Initialization (trace) (epoch 29, progress 30.06%): UPDATE throughput 0.00 ops/sec, INSERT throughput 45468.36 ops/sec, READ throughput 0.00 ops/sec, SCAN throughput 0.00 ops/sec, READ_MODIFY_WRITE throughput 0.00 ops/sec, total throughput 45468.36 ops/sec\n",
      "Initialization (trace) (epoch 30, progress 30.33%): UPDATE throughput 0.00 ops/sec, INSERT throughput 12312.13 ops/sec, READ throughput 0.00 ops/sec, SCAN throughput 0.00 ops/sec, READ_MODIFY_WRITE throughput 0.00 ops/sec, total throughput 12312.13 ops/sec\n",
      "Initialization (trace) (epoch 31, progress 31.61%): UPDATE throughput 0.00 ops/sec, INSERT throughput 56572.15 ops/sec, READ throughput 0.00 ops/sec, SCAN throughput 0.00 ops/sec, READ_MODIFY_WRITE throughput 0.00 ops/sec, total throughput 56572.15 ops/sec\n",
      "Initialization (trace) (epoch 32, progress 32.20%): UPDATE throughput 0.00 ops/sec, INSERT throughput 26256.03 ops/sec, READ throughput 0.00 ops/sec, SCAN throughput 0.00 ops/sec, READ_MODIFY_WRITE throughput 0.00 ops/sec, total throughput 26256.03 ops/sec\n",
      "Initialization (trace) (epoch 33, progress 32.91%): UPDATE throughput 0.00 ops/sec, INSERT throughput 31411.46 ops/sec, READ throughput 0.00 ops/sec, SCAN throughput 0.00 ops/sec, READ_MODIFY_WRITE throughput 0.00 ops/sec, total throughput 31411.46 ops/sec\n",
      "Initialization (trace) (epoch 34, progress 33.51%): UPDATE throughput 0.00 ops/sec, INSERT throughput 26702.13 ops/sec, READ throughput 0.00 ops/sec, SCAN throughput 0.00 ops/sec, READ_MODIFY_WRITE throughput 0.00 ops/sec, total throughput 26702.13 ops/sec\n",
      "Initialization (trace) (epoch 35, progress 34.20%): UPDATE throughput 0.00 ops/sec, INSERT throughput 30659.85 ops/sec, READ throughput 0.00 ops/sec, SCAN throughput 0.00 ops/sec, READ_MODIFY_WRITE throughput 0.00 ops/sec, total throughput 30659.85 ops/sec\n",
      "Initialization (trace) (epoch 36, progress 34.74%): UPDATE throughput 0.00 ops/sec, INSERT throughput 24219.38 ops/sec, READ throughput 0.00 ops/sec, SCAN throughput 0.00 ops/sec, READ_MODIFY_WRITE throughput 0.00 ops/sec, total throughput 24219.38 ops/sec\n",
      "Initialization (trace) (epoch 37, progress 35.48%): UPDATE throughput 0.00 ops/sec, INSERT throughput 32860.63 ops/sec, READ throughput 0.00 ops/sec, SCAN throughput 0.00 ops/sec, READ_MODIFY_WRITE throughput 0.00 ops/sec, total throughput 32860.63 ops/sec\n",
      "Initialization (trace) (epoch 38, progress 36.75%): UPDATE throughput 0.00 ops/sec, INSERT throughput 56254.67 ops/sec, READ throughput 0.00 ops/sec, SCAN throughput 0.00 ops/sec, READ_MODIFY_WRITE throughput 0.00 ops/sec, total throughput 56254.67 ops/sec\n",
      "Initialization (trace) (epoch 39, progress 36.78%): UPDATE throughput 0.00 ops/sec, INSERT throughput 1414.89 ops/sec, READ throughput 0.00 ops/sec, SCAN throughput 0.00 ops/sec, READ_MODIFY_WRITE throughput 0.00 ops/sec, total throughput 1414.89 ops/sec\n",
      "Initialization (trace) (epoch 40, progress 37.80%): UPDATE throughput 0.00 ops/sec, INSERT throughput 45099.07 ops/sec, READ throughput 0.00 ops/sec, SCAN throughput 0.00 ops/sec, READ_MODIFY_WRITE throughput 0.00 ops/sec, total throughput 45099.07 ops/sec\n",
      "Initialization (trace) (epoch 41, progress 38.07%): UPDATE throughput 0.00 ops/sec, INSERT throughput 11987.17 ops/sec, READ throughput 0.00 ops/sec, SCAN throughput 0.00 ops/sec, READ_MODIFY_WRITE throughput 0.00 ops/sec, total throughput 11987.17 ops/sec\n",
      "Initialization (trace) (epoch 42, progress 39.06%): UPDATE throughput 0.00 ops/sec, INSERT throughput 44119.26 ops/sec, READ throughput 0.00 ops/sec, SCAN throughput 0.00 ops/sec, READ_MODIFY_WRITE throughput 0.00 ops/sec, total throughput 44119.26 ops/sec\n",
      "Initialization (trace) (epoch 43, progress 39.36%): UPDATE throughput 0.00 ops/sec, INSERT throughput 13079.10 ops/sec, READ throughput 0.00 ops/sec, SCAN throughput 0.00 ops/sec, READ_MODIFY_WRITE throughput 0.00 ops/sec, total throughput 13079.10 ops/sec\n",
      "Initialization (trace) (epoch 44, progress 40.63%): UPDATE throughput 0.00 ops/sec, INSERT throughput 56655.20 ops/sec, READ throughput 0.00 ops/sec, SCAN throughput 0.00 ops/sec, READ_MODIFY_WRITE throughput 0.00 ops/sec, total throughput 56655.20 ops/sec\n",
      "Initialization (trace) (epoch 45, progress 40.65%): UPDATE throughput 0.00 ops/sec, INSERT throughput 929.94 ops/sec, READ throughput 0.00 ops/sec, SCAN throughput 0.00 ops/sec, READ_MODIFY_WRITE throughput 0.00 ops/sec, total throughput 929.94 ops/sec\n",
      "Initialization (trace) (epoch 46, progress 41.51%): UPDATE throughput 0.00 ops/sec, INSERT throughput 37848.35 ops/sec, READ throughput 0.00 ops/sec, SCAN throughput 0.00 ops/sec, READ_MODIFY_WRITE throughput 0.00 ops/sec, total throughput 37848.35 ops/sec\n",
      "Initialization (trace) (epoch 47, progress 41.93%): UPDATE throughput 0.00 ops/sec, INSERT throughput 18967.54 ops/sec, READ throughput 0.00 ops/sec, SCAN throughput 0.00 ops/sec, READ_MODIFY_WRITE throughput 0.00 ops/sec, total throughput 18967.54 ops/sec\n",
      "Initialization (trace) (epoch 48, progress 42.93%): UPDATE throughput 0.00 ops/sec, INSERT throughput 44292.77 ops/sec, READ throughput 0.00 ops/sec, SCAN throughput 0.00 ops/sec, READ_MODIFY_WRITE throughput 0.00 ops/sec, total throughput 44292.77 ops/sec\n",
      "Initialization (trace) (epoch 49, progress 43.22%): UPDATE throughput 0.00 ops/sec, INSERT throughput 13028.97 ops/sec, READ throughput 0.00 ops/sec, SCAN throughput 0.00 ops/sec, READ_MODIFY_WRITE throughput 0.00 ops/sec, total throughput 13028.97 ops/sec\n",
      "Initialization (trace) (epoch 50, progress 44.50%): UPDATE throughput 0.00 ops/sec, INSERT throughput 56602.09 ops/sec, READ throughput 0.00 ops/sec, SCAN throughput 0.00 ops/sec, READ_MODIFY_WRITE throughput 0.00 ops/sec, total throughput 56602.09 ops/sec\n",
      "Initialization (trace) (epoch 51, progress 44.52%): UPDATE throughput 0.00 ops/sec, INSERT throughput 973.92 ops/sec, READ throughput 0.00 ops/sec, SCAN throughput 0.00 ops/sec, READ_MODIFY_WRITE throughput 0.00 ops/sec, total throughput 973.92 ops/sec\n",
      "Initialization (trace) (epoch 52, progress 44.94%): UPDATE throughput 0.00 ops/sec, INSERT throughput 18668.73 ops/sec, READ throughput 0.00 ops/sec, SCAN throughput 0.00 ops/sec, READ_MODIFY_WRITE throughput 0.00 ops/sec, total throughput 18668.73 ops/sec\n",
      "Initialization (trace) (epoch 53, progress 45.79%): UPDATE throughput 0.00 ops/sec, INSERT throughput 37898.16 ops/sec, READ throughput 0.00 ops/sec, SCAN throughput 0.00 ops/sec, READ_MODIFY_WRITE throughput 0.00 ops/sec, total throughput 37898.16 ops/sec\n",
      "Initialization (trace) (epoch 54, progress 46.24%): UPDATE throughput 0.00 ops/sec, INSERT throughput 19662.96 ops/sec, READ throughput 0.00 ops/sec, SCAN throughput 0.00 ops/sec, READ_MODIFY_WRITE throughput 0.00 ops/sec, total throughput 19662.96 ops/sec\n",
      "Initialization (trace) (epoch 55, progress 47.09%): UPDATE throughput 0.00 ops/sec, INSERT throughput 37848.67 ops/sec, READ throughput 0.00 ops/sec, SCAN throughput 0.00 ops/sec, READ_MODIFY_WRITE throughput 0.00 ops/sec, total throughput 37848.67 ops/sec\n",
      "Initialization (trace) (epoch 56, progress 47.85%): UPDATE throughput 0.00 ops/sec, INSERT throughput 33811.72 ops/sec, READ throughput 0.00 ops/sec, SCAN throughput 0.00 ops/sec, READ_MODIFY_WRITE throughput 0.00 ops/sec, total throughput 33811.72 ops/sec\n",
      "Initialization (trace) (epoch 57, progress 48.37%): UPDATE throughput 0.00 ops/sec, INSERT throughput 23322.36 ops/sec, READ throughput 0.00 ops/sec, SCAN throughput 0.00 ops/sec, READ_MODIFY_WRITE throughput 0.00 ops/sec, total throughput 23322.36 ops/sec\n",
      "Initialization (trace) (epoch 58, progress 48.64%): UPDATE throughput 0.00 ops/sec, INSERT throughput 11680.97 ops/sec, READ throughput 0.00 ops/sec, SCAN throughput 0.00 ops/sec, READ_MODIFY_WRITE throughput 0.00 ops/sec, total throughput 11680.97 ops/sec\n",
      "Initialization (trace) (epoch 59, progress 49.66%): UPDATE throughput 0.00 ops/sec, INSERT throughput 45254.02 ops/sec, READ throughput 0.00 ops/sec, SCAN throughput 0.00 ops/sec, READ_MODIFY_WRITE throughput 0.00 ops/sec, total throughput 45254.02 ops/sec\n",
      "Initialization (trace) (epoch 60, progress 49.96%): UPDATE throughput 0.00 ops/sec, INSERT throughput 13416.79 ops/sec, READ throughput 0.00 ops/sec, SCAN throughput 0.00 ops/sec, READ_MODIFY_WRITE throughput 0.00 ops/sec, total throughput 13416.79 ops/sec\n",
      "Initialization (trace) (epoch 61, progress 50.95%): UPDATE throughput 0.00 ops/sec, INSERT throughput 43853.71 ops/sec, READ throughput 0.00 ops/sec, SCAN throughput 0.00 ops/sec, READ_MODIFY_WRITE throughput 0.00 ops/sec, total throughput 43853.71 ops/sec\n",
      "Initialization (trace) (epoch 62, progress 51.22%): UPDATE throughput 0.00 ops/sec, INSERT throughput 12075.12 ops/sec, READ throughput 0.00 ops/sec, SCAN throughput 0.00 ops/sec, READ_MODIFY_WRITE throughput 0.00 ops/sec, total throughput 12075.12 ops/sec\n",
      "Initialization (trace) (epoch 63, progress 52.24%): UPDATE throughput 0.00 ops/sec, INSERT throughput 45146.84 ops/sec, READ throughput 0.00 ops/sec, SCAN throughput 0.00 ops/sec, READ_MODIFY_WRITE throughput 0.00 ops/sec, total throughput 45146.84 ops/sec\n",
      "Initialization (trace) (epoch 64, progress 52.26%): UPDATE throughput 0.00 ops/sec, INSERT throughput 929.93 ops/sec, READ throughput 0.00 ops/sec, SCAN throughput 0.00 ops/sec, READ_MODIFY_WRITE throughput 0.00 ops/sec, total throughput 929.93 ops/sec\n",
      "Initialization (trace) (epoch 65, progress 53.52%): UPDATE throughput 0.00 ops/sec, INSERT throughput 56005.25 ops/sec, READ throughput 0.00 ops/sec, SCAN throughput 0.00 ops/sec, READ_MODIFY_WRITE throughput 0.00 ops/sec, total throughput 56005.25 ops/sec\n",
      "Initialization (trace) (epoch 66, progress 53.54%): UPDATE throughput 0.00 ops/sec, INSERT throughput 929.93 ops/sec, READ throughput 0.00 ops/sec, SCAN throughput 0.00 ops/sec, READ_MODIFY_WRITE throughput 0.00 ops/sec, total throughput 929.93 ops/sec\n",
      "Initialization (trace) (epoch 67, progress 54.81%): UPDATE throughput 0.00 ops/sec, INSERT throughput 56460.16 ops/sec, READ throughput 0.00 ops/sec, SCAN throughput 0.00 ops/sec, READ_MODIFY_WRITE throughput 0.00 ops/sec, total throughput 56460.16 ops/sec\n",
      "Initialization (trace) (epoch 68, progress 54.83%): UPDATE throughput 0.00 ops/sec, INSERT throughput 927.93 ops/sec, READ throughput 0.00 ops/sec, SCAN throughput 0.00 ops/sec, READ_MODIFY_WRITE throughput 0.00 ops/sec, total throughput 927.93 ops/sec\n",
      "Initialization (trace) (epoch 69, progress 56.09%): UPDATE throughput 0.00 ops/sec, INSERT throughput 56071.79 ops/sec, READ throughput 0.00 ops/sec, SCAN throughput 0.00 ops/sec, READ_MODIFY_WRITE throughput 0.00 ops/sec, total throughput 56071.79 ops/sec\n",
      "Initialization (trace) (epoch 70, progress 56.11%): UPDATE throughput 0.00 ops/sec, INSERT throughput 965.93 ops/sec, READ throughput 0.00 ops/sec, SCAN throughput 0.00 ops/sec, READ_MODIFY_WRITE throughput 0.00 ops/sec, total throughput 965.93 ops/sec\n",
      "Initialization (trace) (epoch 71, progress 56.91%): UPDATE throughput 0.00 ops/sec, INSERT throughput 35194.59 ops/sec, READ throughput 0.00 ops/sec, SCAN throughput 0.00 ops/sec, READ_MODIFY_WRITE throughput 0.00 ops/sec, total throughput 35194.59 ops/sec\n",
      "Initialization (trace) (epoch 72, progress 57.40%): UPDATE throughput 0.00 ops/sec, INSERT throughput 21745.80 ops/sec, READ throughput 0.00 ops/sec, SCAN throughput 0.00 ops/sec, READ_MODIFY_WRITE throughput 0.00 ops/sec, total throughput 21745.80 ops/sec\n",
      "Initialization (trace) (epoch 73, progress 58.41%): UPDATE throughput 0.00 ops/sec, INSERT throughput 45209.30 ops/sec, READ throughput 0.00 ops/sec, SCAN throughput 0.00 ops/sec, READ_MODIFY_WRITE throughput 0.00 ops/sec, total throughput 45209.30 ops/sec\n",
      "Initialization (trace) (epoch 74, progress 58.69%): UPDATE throughput 0.00 ops/sec, INSERT throughput 12164.65 ops/sec, READ throughput 0.00 ops/sec, SCAN throughput 0.00 ops/sec, READ_MODIFY_WRITE throughput 0.00 ops/sec, total throughput 12164.65 ops/sec\n",
      "Initialization (trace) (epoch 75, progress 59.34%): UPDATE throughput 0.00 ops/sec, INSERT throughput 28979.02 ops/sec, READ throughput 0.00 ops/sec, SCAN throughput 0.00 ops/sec, READ_MODIFY_WRITE throughput 0.00 ops/sec, total throughput 28979.02 ops/sec\n",
      "Initialization (trace) (epoch 76, progress 59.97%): UPDATE throughput 0.00 ops/sec, INSERT throughput 28030.94 ops/sec, READ throughput 0.00 ops/sec, SCAN throughput 0.00 ops/sec, READ_MODIFY_WRITE throughput 0.00 ops/sec, total throughput 28030.94 ops/sec\n",
      "Initialization (trace) (epoch 77, progress 60.24%): UPDATE throughput 0.00 ops/sec, INSERT throughput 11997.84 ops/sec, READ throughput 0.00 ops/sec, SCAN throughput 0.00 ops/sec, READ_MODIFY_WRITE throughput 0.00 ops/sec, total throughput 11997.84 ops/sec\n",
      "Initialization (trace) (epoch 78, progress 61.26%): UPDATE throughput 0.00 ops/sec, INSERT throughput 45338.60 ops/sec, READ throughput 0.00 ops/sec, SCAN throughput 0.00 ops/sec, READ_MODIFY_WRITE throughput 0.00 ops/sec, total throughput 45338.60 ops/sec\n",
      "Initialization (trace) (epoch 79, progress 61.70%): UPDATE throughput 0.00 ops/sec, INSERT throughput 19600.00 ops/sec, READ throughput 0.00 ops/sec, SCAN throughput 0.00 ops/sec, READ_MODIFY_WRITE throughput 0.00 ops/sec, total throughput 19600.00 ops/sec\n",
      "Initialization (trace) (epoch 80, progress 62.55%): UPDATE throughput 0.00 ops/sec, INSERT throughput 37423.92 ops/sec, READ throughput 0.00 ops/sec, SCAN throughput 0.00 ops/sec, READ_MODIFY_WRITE throughput 0.00 ops/sec, total throughput 37423.92 ops/sec\n",
      "Initialization (trace) (epoch 81, progress 62.69%): UPDATE throughput 0.00 ops/sec, INSERT throughput 6398.31 ops/sec, READ throughput 0.00 ops/sec, SCAN throughput 0.00 ops/sec, READ_MODIFY_WRITE throughput 0.00 ops/sec, total throughput 6398.31 ops/sec\n",
      "Initialization (trace) (epoch 82, progress 63.83%): UPDATE throughput 0.00 ops/sec, INSERT throughput 50647.48 ops/sec, READ throughput 0.00 ops/sec, SCAN throughput 0.00 ops/sec, READ_MODIFY_WRITE throughput 0.00 ops/sec, total throughput 50647.48 ops/sec\n",
      "Initialization (trace) (epoch 83, progress 63.85%): UPDATE throughput 0.00 ops/sec, INSERT throughput 929.92 ops/sec, READ throughput 0.00 ops/sec, SCAN throughput 0.00 ops/sec, READ_MODIFY_WRITE throughput 0.00 ops/sec, total throughput 929.92 ops/sec\n",
      "Initialization (trace) (epoch 84, progress 65.04%): UPDATE throughput 0.00 ops/sec, INSERT throughput 52598.00 ops/sec, READ throughput 0.00 ops/sec, SCAN throughput 0.00 ops/sec, READ_MODIFY_WRITE throughput 0.00 ops/sec, total throughput 52598.00 ops/sec\n",
      "Initialization (trace) (epoch 85, progress 65.14%): UPDATE throughput 0.00 ops/sec, INSERT throughput 4348.61 ops/sec, READ throughput 0.00 ops/sec, SCAN throughput 0.00 ops/sec, READ_MODIFY_WRITE throughput 0.00 ops/sec, total throughput 4348.61 ops/sec\n",
      "Initialization (trace) (epoch 86, progress 66.41%): UPDATE throughput 0.00 ops/sec, INSERT throughput 56465.64 ops/sec, READ throughput 0.00 ops/sec, SCAN throughput 0.00 ops/sec, READ_MODIFY_WRITE throughput 0.00 ops/sec, total throughput 56465.64 ops/sec\n",
      "Initialization (trace) (epoch 87, progress 66.43%): UPDATE throughput 0.00 ops/sec, INSERT throughput 930.92 ops/sec, READ throughput 0.00 ops/sec, SCAN throughput 0.00 ops/sec, READ_MODIFY_WRITE throughput 0.00 ops/sec, total throughput 930.92 ops/sec\n",
      "Initialization (trace) (epoch 88, progress 67.29%): UPDATE throughput 0.00 ops/sec, INSERT throughput 38178.02 ops/sec, READ throughput 0.00 ops/sec, SCAN throughput 0.00 ops/sec, READ_MODIFY_WRITE throughput 0.00 ops/sec, total throughput 38178.02 ops/sec\n",
      "Initialization (trace) (epoch 89, progress 67.71%): UPDATE throughput 0.00 ops/sec, INSERT throughput 18698.56 ops/sec, READ throughput 0.00 ops/sec, SCAN throughput 0.00 ops/sec, READ_MODIFY_WRITE throughput 0.00 ops/sec, total throughput 18698.56 ops/sec\n",
      "Initialization (trace) (epoch 90, progress 68.05%): UPDATE throughput 0.00 ops/sec, INSERT throughput 15022.99 ops/sec, READ throughput 0.00 ops/sec, SCAN throughput 0.00 ops/sec, READ_MODIFY_WRITE throughput 0.00 ops/sec, total throughput 15022.99 ops/sec\n",
      "Initialization (trace) (epoch 91, progress 68.99%): UPDATE throughput 0.00 ops/sec, INSERT throughput 41893.11 ops/sec, READ throughput 0.00 ops/sec, SCAN throughput 0.00 ops/sec, READ_MODIFY_WRITE throughput 0.00 ops/sec, total throughput 41893.11 ops/sec\n",
      "Initialization (trace) (epoch 92, progress 69.40%): UPDATE throughput 0.00 ops/sec, INSERT throughput 18143.80 ops/sec, READ throughput 0.00 ops/sec, SCAN throughput 0.00 ops/sec, READ_MODIFY_WRITE throughput 0.00 ops/sec, total throughput 18143.80 ops/sec\n",
      "Initialization (trace) (epoch 93, progress 70.28%): UPDATE throughput 0.00 ops/sec, INSERT throughput 39216.29 ops/sec, READ throughput 0.00 ops/sec, SCAN throughput 0.00 ops/sec, READ_MODIFY_WRITE throughput 0.00 ops/sec, total throughput 39216.29 ops/sec\n",
      "Initialization (trace) (epoch 94, progress 70.30%): UPDATE throughput 0.00 ops/sec, INSERT throughput 926.93 ops/sec, READ throughput 0.00 ops/sec, SCAN throughput 0.00 ops/sec, READ_MODIFY_WRITE throughput 0.00 ops/sec, total throughput 926.93 ops/sec\n",
      "Initialization (trace) (epoch 95, progress 71.41%): UPDATE throughput 0.00 ops/sec, INSERT throughput 49221.11 ops/sec, READ throughput 0.00 ops/sec, SCAN throughput 0.00 ops/sec, READ_MODIFY_WRITE throughput 0.00 ops/sec, total throughput 49221.11 ops/sec\n",
      "Initialization (trace) (epoch 96, progress 71.58%): UPDATE throughput 0.00 ops/sec, INSERT throughput 7440.46 ops/sec, READ throughput 0.00 ops/sec, SCAN throughput 0.00 ops/sec, READ_MODIFY_WRITE throughput 0.00 ops/sec, total throughput 7440.46 ops/sec\n",
      "Initialization (trace) (epoch 97, progress 72.23%): UPDATE throughput 0.00 ops/sec, INSERT throughput 28804.07 ops/sec, READ throughput 0.00 ops/sec, SCAN throughput 0.00 ops/sec, READ_MODIFY_WRITE throughput 0.00 ops/sec, total throughput 28804.07 ops/sec\n",
      "Initialization (trace) (epoch 98, progress 72.86%): UPDATE throughput 0.00 ops/sec, INSERT throughput 28145.03 ops/sec, READ throughput 0.00 ops/sec, SCAN throughput 0.00 ops/sec, READ_MODIFY_WRITE throughput 0.00 ops/sec, total throughput 28145.03 ops/sec\n",
      "Initialization (trace) (epoch 99, progress 73.54%): UPDATE throughput 0.00 ops/sec, INSERT throughput 30031.96 ops/sec, READ throughput 0.00 ops/sec, SCAN throughput 0.00 ops/sec, READ_MODIFY_WRITE throughput 0.00 ops/sec, total throughput 30031.96 ops/sec\n",
      "Initialization (trace) (epoch 100, progress 74.15%): UPDATE throughput 0.00 ops/sec, INSERT throughput 27311.95 ops/sec, READ throughput 0.00 ops/sec, SCAN throughput 0.00 ops/sec, READ_MODIFY_WRITE throughput 0.00 ops/sec, total throughput 27311.95 ops/sec\n",
      "Initialization (trace) (epoch 101, progress 74.17%): UPDATE throughput 0.00 ops/sec, INSERT throughput 925.92 ops/sec, READ throughput 0.00 ops/sec, SCAN throughput 0.00 ops/sec, READ_MODIFY_WRITE throughput 0.00 ops/sec, total throughput 925.92 ops/sec\n",
      "Initialization (trace) (epoch 102, progress 75.37%): UPDATE throughput 0.00 ops/sec, INSERT throughput 53355.43 ops/sec, READ throughput 0.00 ops/sec, SCAN throughput 0.00 ops/sec, READ_MODIFY_WRITE throughput 0.00 ops/sec, total throughput 53355.43 ops/sec\n",
      "Initialization (trace) (epoch 103, progress 75.45%): UPDATE throughput 0.00 ops/sec, INSERT throughput 3179.77 ops/sec, READ throughput 0.00 ops/sec, SCAN throughput 0.00 ops/sec, READ_MODIFY_WRITE throughput 0.00 ops/sec, total throughput 3179.77 ops/sec\n",
      "Initialization (trace) (epoch 104, progress 76.32%): UPDATE throughput 0.00 ops/sec, INSERT throughput 38609.22 ops/sec, READ throughput 0.00 ops/sec, SCAN throughput 0.00 ops/sec, READ_MODIFY_WRITE throughput 0.00 ops/sec, total throughput 38609.22 ops/sec\n",
      "Initialization (trace) (epoch 105, progress 76.73%): UPDATE throughput 0.00 ops/sec, INSERT throughput 18438.60 ops/sec, READ throughput 0.00 ops/sec, SCAN throughput 0.00 ops/sec, READ_MODIFY_WRITE throughput 0.00 ops/sec, total throughput 18438.60 ops/sec\n",
      "Initialization (trace) (epoch 106, progress 77.68%): UPDATE throughput 0.00 ops/sec, INSERT throughput 42297.08 ops/sec, READ throughput 0.00 ops/sec, SCAN throughput 0.00 ops/sec, READ_MODIFY_WRITE throughput 0.00 ops/sec, total throughput 42297.08 ops/sec\n",
      "Initialization (trace) (epoch 107, progress 78.02%): UPDATE throughput 0.00 ops/sec, INSERT throughput 15150.83 ops/sec, READ throughput 0.00 ops/sec, SCAN throughput 0.00 ops/sec, READ_MODIFY_WRITE throughput 0.00 ops/sec, total throughput 15150.83 ops/sec\n",
      "Initialization (trace) (epoch 108, progress 78.05%): UPDATE throughput 0.00 ops/sec, INSERT throughput 926.93 ops/sec, READ throughput 0.00 ops/sec, SCAN throughput 0.00 ops/sec, READ_MODIFY_WRITE throughput 0.00 ops/sec, total throughput 926.93 ops/sec\n",
      "Initialization (trace) (epoch 109, progress 79.30%): UPDATE throughput 0.00 ops/sec, INSERT throughput 55510.89 ops/sec, READ throughput 0.00 ops/sec, SCAN throughput 0.00 ops/sec, READ_MODIFY_WRITE throughput 0.00 ops/sec, total throughput 55510.89 ops/sec\n",
      "Initialization (trace) (epoch 110, progress 79.32%): UPDATE throughput 0.00 ops/sec, INSERT throughput 926.93 ops/sec, READ throughput 0.00 ops/sec, SCAN throughput 0.00 ops/sec, READ_MODIFY_WRITE throughput 0.00 ops/sec, total throughput 926.93 ops/sec\n",
      "Initialization (trace) (epoch 111, progress 80.28%): UPDATE throughput 0.00 ops/sec, INSERT throughput 42910.25 ops/sec, READ throughput 0.00 ops/sec, SCAN throughput 0.00 ops/sec, READ_MODIFY_WRITE throughput 0.00 ops/sec, total throughput 42910.25 ops/sec\n",
      "Initialization (trace) (epoch 112, progress 80.60%): UPDATE throughput 0.00 ops/sec, INSERT throughput 14030.95 ops/sec, READ throughput 0.00 ops/sec, SCAN throughput 0.00 ops/sec, READ_MODIFY_WRITE throughput 0.00 ops/sec, total throughput 14030.95 ops/sec\n",
      "Initialization (trace) (epoch 113, progress 81.21%): UPDATE throughput 0.00 ops/sec, INSERT throughput 27175.80 ops/sec, READ throughput 0.00 ops/sec, SCAN throughput 0.00 ops/sec, READ_MODIFY_WRITE throughput 0.00 ops/sec, total throughput 27175.80 ops/sec\n",
      "Initialization (trace) (epoch 114, progress 81.88%): UPDATE throughput 0.00 ops/sec, INSERT throughput 29841.91 ops/sec, READ throughput 0.00 ops/sec, SCAN throughput 0.00 ops/sec, READ_MODIFY_WRITE throughput 0.00 ops/sec, total throughput 29841.91 ops/sec\n",
      "Initialization (trace) (epoch 115, progress 81.90%): UPDATE throughput 0.00 ops/sec, INSERT throughput 924.94 ops/sec, READ throughput 0.00 ops/sec, SCAN throughput 0.00 ops/sec, READ_MODIFY_WRITE throughput 0.00 ops/sec, total throughput 924.94 ops/sec\n",
      "Initialization (trace) (epoch 116, progress 83.16%): UPDATE throughput 0.00 ops/sec, INSERT throughput 55785.10 ops/sec, READ throughput 0.00 ops/sec, SCAN throughput 0.00 ops/sec, READ_MODIFY_WRITE throughput 0.00 ops/sec, total throughput 55785.10 ops/sec\n",
      "Initialization (trace) (epoch 117, progress 83.18%): UPDATE throughput 0.00 ops/sec, INSERT throughput 926.94 ops/sec, READ throughput 0.00 ops/sec, SCAN throughput 0.00 ops/sec, READ_MODIFY_WRITE throughput 0.00 ops/sec, total throughput 926.94 ops/sec\n",
      "Initialization (trace) (epoch 118, progress 84.12%): UPDATE throughput 0.00 ops/sec, INSERT throughput 41833.90 ops/sec, READ throughput 0.00 ops/sec, SCAN throughput 0.00 ops/sec, READ_MODIFY_WRITE throughput 0.00 ops/sec, total throughput 41833.90 ops/sec\n",
      "Initialization (trace) (epoch 119, progress 84.46%): UPDATE throughput 0.00 ops/sec, INSERT throughput 15204.74 ops/sec, READ throughput 0.00 ops/sec, SCAN throughput 0.00 ops/sec, READ_MODIFY_WRITE throughput 0.00 ops/sec, total throughput 15204.74 ops/sec\n",
      "Initialization (trace) (epoch 120, progress 85.03%): UPDATE throughput 0.00 ops/sec, INSERT throughput 25204.16 ops/sec, READ throughput 0.00 ops/sec, SCAN throughput 0.00 ops/sec, READ_MODIFY_WRITE throughput 0.00 ops/sec, total throughput 25204.16 ops/sec\n",
      "Initialization (trace) (epoch 121, progress 85.75%): UPDATE throughput 0.00 ops/sec, INSERT throughput 31850.77 ops/sec, READ throughput 0.00 ops/sec, SCAN throughput 0.00 ops/sec, READ_MODIFY_WRITE throughput 0.00 ops/sec, total throughput 31850.77 ops/sec\n",
      "Initialization (trace) (epoch 122, progress 85.77%): UPDATE throughput 0.00 ops/sec, INSERT throughput 924.94 ops/sec, READ throughput 0.00 ops/sec, SCAN throughput 0.00 ops/sec, READ_MODIFY_WRITE throughput 0.00 ops/sec, total throughput 924.94 ops/sec\n",
      "Initialization (trace) (epoch 123, progress 86.99%): UPDATE throughput 0.00 ops/sec, INSERT throughput 53986.27 ops/sec, READ throughput 0.00 ops/sec, SCAN throughput 0.00 ops/sec, READ_MODIFY_WRITE throughput 0.00 ops/sec, total throughput 53986.27 ops/sec\n",
      "Initialization (trace) (epoch 124, progress 87.05%): UPDATE throughput 0.00 ops/sec, INSERT throughput 2963.77 ops/sec, READ throughput 0.00 ops/sec, SCAN throughput 0.00 ops/sec, READ_MODIFY_WRITE throughput 0.00 ops/sec, total throughput 2963.77 ops/sec\n",
      "Initialization (trace) (epoch 125, progress 88.11%): UPDATE throughput 0.00 ops/sec, INSERT throughput 46773.60 ops/sec, READ throughput 0.00 ops/sec, SCAN throughput 0.00 ops/sec, READ_MODIFY_WRITE throughput 0.00 ops/sec, total throughput 46773.60 ops/sec\n",
      "Initialization (trace) (epoch 126, progress 88.33%): UPDATE throughput 0.00 ops/sec, INSERT throughput 10073.17 ops/sec, READ throughput 0.00 ops/sec, SCAN throughput 0.00 ops/sec, READ_MODIFY_WRITE throughput 0.00 ops/sec, total throughput 10073.17 ops/sec\n",
      "Initialization (trace) (epoch 127, progress 88.77%): UPDATE throughput 0.00 ops/sec, INSERT throughput 19485.62 ops/sec, READ throughput 0.00 ops/sec, SCAN throughput 0.00 ops/sec, READ_MODIFY_WRITE throughput 0.00 ops/sec, total throughput 19485.62 ops/sec\n",
      "Initialization (trace) (epoch 128, progress 89.61%): UPDATE throughput 0.00 ops/sec, INSERT throughput 37397.42 ops/sec, READ throughput 0.00 ops/sec, SCAN throughput 0.00 ops/sec, READ_MODIFY_WRITE throughput 0.00 ops/sec, total throughput 37397.42 ops/sec\n",
      "Initialization (trace) (epoch 129, progress 89.63%): UPDATE throughput 0.00 ops/sec, INSERT throughput 924.94 ops/sec, READ throughput 0.00 ops/sec, SCAN throughput 0.00 ops/sec, READ_MODIFY_WRITE throughput 0.00 ops/sec, total throughput 924.94 ops/sec\n",
      "Initialization (trace) (epoch 130, progress 90.66%): UPDATE throughput 0.00 ops/sec, INSERT throughput 45756.39 ops/sec, READ throughput 0.00 ops/sec, SCAN throughput 0.00 ops/sec, READ_MODIFY_WRITE throughput 0.00 ops/sec, total throughput 45756.39 ops/sec\n",
      "Initialization (trace) (epoch 131, progress 90.91%): UPDATE throughput 0.00 ops/sec, INSERT throughput 10908.97 ops/sec, READ throughput 0.00 ops/sec, SCAN throughput 0.00 ops/sec, READ_MODIFY_WRITE throughput 0.00 ops/sec, total throughput 10908.97 ops/sec\n",
      "Initialization (trace) (epoch 132, progress 91.80%): UPDATE throughput 0.00 ops/sec, INSERT throughput 39355.01 ops/sec, READ throughput 0.00 ops/sec, SCAN throughput 0.00 ops/sec, READ_MODIFY_WRITE throughput 0.00 ops/sec, total throughput 39355.01 ops/sec\n",
      "Initialization (trace) (epoch 133, progress 92.20%): UPDATE throughput 0.00 ops/sec, INSERT throughput 17794.75 ops/sec, READ throughput 0.00 ops/sec, SCAN throughput 0.00 ops/sec, READ_MODIFY_WRITE throughput 0.00 ops/sec, total throughput 17794.75 ops/sec\n",
      "Initialization (trace) (epoch 134, progress 92.28%): UPDATE throughput 0.00 ops/sec, INSERT throughput 3903.73 ops/sec, READ throughput 0.00 ops/sec, SCAN throughput 0.00 ops/sec, READ_MODIFY_WRITE throughput 0.00 ops/sec, total throughput 3903.73 ops/sec\n",
      "Initialization (trace) (epoch 135, progress 93.48%): UPDATE throughput 0.00 ops/sec, INSERT throughput 53061.23 ops/sec, READ throughput 0.00 ops/sec, SCAN throughput 0.00 ops/sec, READ_MODIFY_WRITE throughput 0.00 ops/sec, total throughput 53061.23 ops/sec\n",
      "Initialization (trace) (epoch 136, progress 93.50%): UPDATE throughput 0.00 ops/sec, INSERT throughput 926.94 ops/sec, READ throughput 0.00 ops/sec, SCAN throughput 0.00 ops/sec, READ_MODIFY_WRITE throughput 0.00 ops/sec, total throughput 926.94 ops/sec\n",
      "Initialization (trace) (epoch 137, progress 94.29%): UPDATE throughput 0.00 ops/sec, INSERT throughput 34987.41 ops/sec, READ throughput 0.00 ops/sec, SCAN throughput 0.00 ops/sec, READ_MODIFY_WRITE throughput 0.00 ops/sec, total throughput 34987.41 ops/sec\n",
      "Initialization (trace) (epoch 138, progress 94.77%): UPDATE throughput 0.00 ops/sec, INSERT throughput 21491.24 ops/sec, READ throughput 0.00 ops/sec, SCAN throughput 0.00 ops/sec, READ_MODIFY_WRITE throughput 0.00 ops/sec, total throughput 21491.24 ops/sec\n",
      "Initialization (trace) (epoch 139, progress 95.36%): UPDATE throughput 0.00 ops/sec, INSERT throughput 25946.16 ops/sec, READ throughput 0.00 ops/sec, SCAN throughput 0.00 ops/sec, READ_MODIFY_WRITE throughput 0.00 ops/sec, total throughput 25946.16 ops/sec\n",
      "Initialization (trace) (epoch 140, progress 96.06%): UPDATE throughput 0.00 ops/sec, INSERT throughput 31204.82 ops/sec, READ throughput 0.00 ops/sec, SCAN throughput 0.00 ops/sec, READ_MODIFY_WRITE throughput 0.00 ops/sec, total throughput 31204.82 ops/sec\n",
      "Initialization (trace) (epoch 141, progress 96.08%): UPDATE throughput 0.00 ops/sec, INSERT throughput 925.94 ops/sec, READ throughput 0.00 ops/sec, SCAN throughput 0.00 ops/sec, READ_MODIFY_WRITE throughput 0.00 ops/sec, total throughput 925.94 ops/sec\n",
      "Initialization (trace) (epoch 142, progress 97.18%): UPDATE throughput 0.00 ops/sec, INSERT throughput 48899.67 ops/sec, READ throughput 0.00 ops/sec, SCAN throughput 0.00 ops/sec, READ_MODIFY_WRITE throughput 0.00 ops/sec, total throughput 48899.67 ops/sec\n",
      "Initialization (trace) (epoch 143, progress 97.36%): UPDATE throughput 0.00 ops/sec, INSERT throughput 7837.41 ops/sec, READ throughput 0.00 ops/sec, SCAN throughput 0.00 ops/sec, READ_MODIFY_WRITE throughput 0.00 ops/sec, total throughput 7837.41 ops/sec\n",
      "Initialization (trace) (epoch 144, progress 97.54%): UPDATE throughput 0.00 ops/sec, INSERT throughput 8147.34 ops/sec, READ throughput 0.00 ops/sec, SCAN throughput 0.00 ops/sec, READ_MODIFY_WRITE throughput 0.00 ops/sec, total throughput 8147.34 ops/sec\n",
      "Initialization (trace) (epoch 145, progress 98.63%): UPDATE throughput 0.00 ops/sec, INSERT throughput 48422.61 ops/sec, READ throughput 0.00 ops/sec, SCAN throughput 0.00 ops/sec, READ_MODIFY_WRITE throughput 0.00 ops/sec, total throughput 48422.61 ops/sec\n",
      "Initialization (trace) (epoch 146, progress 98.65%): UPDATE throughput 0.00 ops/sec, INSERT throughput 924.94 ops/sec, READ throughput 0.00 ops/sec, SCAN throughput 0.00 ops/sec, READ_MODIFY_WRITE throughput 0.00 ops/sec, total throughput 924.94 ops/sec\n",
      "Initialization (trace) (epoch 147, progress 99.92%): UPDATE throughput 0.00 ops/sec, INSERT throughput 56218.18 ops/sec, READ throughput 0.00 ops/sec, SCAN throughput 0.00 ops/sec, READ_MODIFY_WRITE throughput 0.00 ops/sec, total throughput 56218.18 ops/sec\n",
      "Initialization (trace) (epoch 148, progress 99.94%): UPDATE throughput 0.00 ops/sec, INSERT throughput 926.94 ops/sec, READ throughput 0.00 ops/sec, SCAN throughput 0.00 ops/sec, READ_MODIFY_WRITE throughput 0.00 ops/sec, total throughput 926.94 ops/sec\n",
      "Initialization (trace): calculating overall performance metrics... (might take a while)\n",
      "Initialization (trace) overall: UPDATE throughput 0.00 ops/sec, INSERT throughput 29837.80 ops/sec, READ throughput 0.00 ops/sec, SCAN throughput 0.00 ops/sec, READ_MODIFY_WRITE throughput 0.00 ops/sec, total throughput 29837.80 ops/sec\n",
      "Initialization (trace) overall: UPDATE average latency 0.00 ns, UPDATE p99 latency 0.00 ns, INSERT average latency 25628.98 ns, INSERT p99 latency 1063474.00 ns, READ average latency 0.00 ns, READ p99 latency 0.00 ns, SCAN average latency 0.00 ns, SCAN p99 latency 0.00 ns, READ_MODIFY_WRITE average latency 0.00 ns, READ_MODIFY_WRITE p99 latency 0.00 ns\n"
     ]
    }
   ],
   "source": [
    "def create_myycsb_yamls(init_filename: str, bench_filename: str, data_dir: str,\n",
    "                        init_workload_file: str, bench_workload_file: str,\n",
    "                        key_size: int, value_size: int, nr_entry: int) -> None:\n",
    "    # Create a YAML config file for My-YCSB initialization\n",
    "    config_init = {\n",
    "        \"database\": {\n",
    "            \"key_size\": key_size + 1,\n",
    "            \"value_size\": value_size + 1,\n",
    "            \"nr_entry\": nr_entry\n",
    "        },\n",
    "        \"workload\": {\n",
    "            \"nr_warmup_op\": 10000000,\n",
    "            \"warmup_runtime_seconds\": 240,\n",
    "            \"runtime_seconds\": 240,\n",
    "            \"nr_op\": 10000000,\n",
    "            \"nr_thread\": 8,\n",
    "            \"next_op_interval_ns\": 0,\n",
    "            \"operation_proportion\": {\n",
    "                \"read\": 0.5,\n",
    "                \"update\": 0.5,\n",
    "                \"insert\": 0,\n",
    "                \"scan\": 0,\n",
    "                \"read_modify_write\": 0\n",
    "            },\n",
    "            \"request_distribution\": \"trace\",\n",
    "            \"zipfian_constant\": 0.99,\n",
    "            \"trace_file\": init_workload_file,\n",
    "            \"trace_type\": \"twitter_init\",\n",
    "            \"scan_length\": 100\n",
    "        },\n",
    "        \"leveldb\": {\n",
    "            \"data_dir\": data_dir,\n",
    "            \"options_file\": \"/mydata/My-YCSB/rocksdb/config/rocksdb_rubble_16gb_config.ini\",\n",
    "            \"cache_size\": 100000000,\n",
    "            \"print_stats\": True\n",
    "        }\n",
    "    }\n",
    "\n",
    "    with open(init_filename, \"w\") as f:\n",
    "        yaml.dump(config_init, f)\n",
    "\n",
    "    config_bench = deepcopy(config_init)\n",
    "    config_bench[\"workload\"][\"trace_file\"] = bench_workload_file\n",
    "    config_bench[\"workload\"][\"trace_type\"] = \"twitter_bench\"\n",
    "\n",
    "    with open(bench_filename, \"w\") as f:\n",
    "        yaml.dump(config_bench, f)\n",
    "\n",
    "\n",
    "if create_data_dir:\n",
    "    if os.path.exists(data_dir):\n",
    "        print(\"Data directory already exists. Skipping creation.\")\n",
    "    else:\n",
    "        os.makedirs(data_dir)\n",
    "        print(\"Data directory created\")\n",
    "        print(\"Creating My-YCSB init YAML file\")\n",
    "        create_myycsb_yamls(myycsb_init_yaml_file, myycsb_bench_yaml_file, data_dir,\n",
    "                            init_workload_file, bench_workload_file,\n",
    "                            key_size, value_size, num_unique_keys)\n",
    "        cmd = [\"/mydata/My-YCSB/build/init_leveldb\", myycsb_init_yaml_file]\n",
    "        print(\"Running My-YCSB init\")\n",
    "        run(cmd, check=True)"
   ]
  }
 ],
 "metadata": {
  "kernelspec": {
   "display_name": "Python 3",
   "language": "python",
   "name": "python3"
  },
  "language_info": {
   "codemirror_mode": {
    "name": "ipython",
    "version": 3
   },
   "file_extension": ".py",
   "mimetype": "text/x-python",
   "name": "python",
   "nbconvert_exporter": "python",
   "pygments_lexer": "ipython3",
   "version": "3.10.12"
  }
 },
 "nbformat": 4,
 "nbformat_minor": 2
}
