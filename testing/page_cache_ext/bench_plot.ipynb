{
 "cells": [
  {
   "cell_type": "code",
   "execution_count": 1,
   "metadata": {},
   "outputs": [
    {
     "data": {
      "text/plain": [
       "<module 'bench_plot_lib' from '/mydata/linux/linux/testing/page_cache_ext/bench_plot_lib.py'>"
      ]
     },
     "execution_count": 1,
     "metadata": {},
     "output_type": "execute_result"
    }
   ],
   "source": [
    "import bench_lib\n",
    "import numpy as np\n",
    "import matplotlib.pyplot as plt\n",
    "import bench_plot_lib as plot_lib\n",
    "\n",
    "import importlib\n",
    "importlib.reload(bench_lib)\n",
    "importlib.reload(plot_lib)"
   ]
  },
  {
   "cell_type": "code",
   "execution_count": 2,
   "metadata": {},
   "outputs": [],
   "source": [
    "GiB = 2**30\n",
    "\n",
    "SYS_NAME = \"cache_ext\"\n",
    "iops_select_fn = lambda r: r[\"jobs\"][0][\"read\"][\"iops\"]\n"
   ]
  },
  {
   "cell_type": "code",
   "execution_count": 3,
   "metadata": {},
   "outputs": [
    {
     "data": {
      "image/png": "[encoded data removed]",
      "text/plain": [
       "<Figure size 576x216 with 1 Axes>"
      ]
     },
     "metadata": {
      "needs_background": "light"
     },
     "output_type": "display_data"
    }
   ],
   "source": [
    "# Plot fio results\n",
    "\n",
    "fio_results = bench_lib.parse_results_file(\"fio_results.json\", bench_lib.BenchResults)\n",
    "\n",
    "cgroup_size = 30 * GiB\n",
    "cgroup_sizes = [5 * GiB, 10 * GiB, 20 * GiB, 30 * GiB]\n",
    "\n",
    "baseline_config_match = {\n",
    "    \"name\": \"fio_benchmark\",\n",
    "    \"workload\": \"randread\",\n",
    "    \"cgroup_name\": \"baseline_test\",\n",
    "}\n",
    "\n",
    "cache_ext_config_match = {\n",
    "    \"name\": \"fio_benchmark\",\n",
    "    \"workload\": \"randread\",\n",
    "    \"cgroup_name\": \"cache_ext_test\",\n",
    "}\n",
    "\n",
    "baseline_iops = {}\n",
    "cache_ext_iops = {}\n",
    "iops_diff = {}\n",
    "for cgroup_size in cgroup_sizes:\n",
    "    baseline_config_match[\"cgroup_size\"] = cgroup_size\n",
    "    baseline_iops[cgroup_size] = plot_lib.results_select(fio_results, baseline_config_match, iops_select_fn)\n",
    "    baseline_iops[cgroup_size] = np.mean(baseline_iops[cgroup_size])\n",
    "    cache_ext_iops[cgroup_size] = plot_lib.results_select(fio_results, cache_ext_config_match, iops_select_fn)\n",
    "    cache_ext_iops[cgroup_size] = np.mean(cache_ext_iops[cgroup_size])\n",
    "    iops_diff[cgroup_size] = (cache_ext_iops[cgroup_size] - baseline_iops[cgroup_size]) / cache_ext_iops[cgroup_size] * 100\n",
    "\n",
    "\n",
    "baseline_cpu_usage = {}\n",
    "cache_ext_cpu_usage = {}\n",
    "cpu_usage_diff = {}\n",
    "for cgroup_size in cgroup_sizes:\n",
    "    baseline_config_match[\"cgroup_size\"] = cgroup_size\n",
    "    baseline_cpu = plot_lib.results_select(fio_results, baseline_config_match, lambda r: r[\"cpu_usage\"])\n",
    "    baseline_cpu_usage[cgroup_size] = np.mean(baseline_cpu) / baseline_iops[cgroup_size] * 10**6\n",
    "\n",
    "    cache_ext_config_match[\"cgroup_size\"] = cgroup_size\n",
    "    cache_ext_cpu = plot_lib.results_select(fio_results, cache_ext_config_match, lambda r: r[\"cpu_usage\"])\n",
    "    cache_ext_cpu_usage[cgroup_size] = np.mean(cache_ext_cpu) / cache_ext_iops[cgroup_size] * 10**6\n",
    "\n",
    "    cpu_usage_diff[cgroup_size] = (cache_ext_cpu_usage[cgroup_size] - baseline_cpu_usage[cgroup_size]) / cache_ext_cpu_usage[cgroup_size] * 100\n",
    "\n",
    "# print(baseline_cpu_usage)\n",
    "\n",
    "# Put the CPU overhead data in a table\n",
    "table_data = []\n",
    "\n",
    "# Add a row for CPU usage\n",
    "table_data.extend([\n",
    "    [\"5 GiB\", f\"{baseline_cpu_usage[5*GiB]:.2f}\", f\"{cache_ext_cpu_usage[5*GiB]:.2f}\", f\"{cpu_usage_diff[5*GiB]:.2f}%\"],\n",
    "    [\"10 GiB\", f\"{baseline_cpu_usage[10*GiB]:.2f}\", f\"{cache_ext_cpu_usage[10*GiB]:.2f}\", f\"{cpu_usage_diff[10*GiB]:.2f}%\"],\n",
    "    [\"30 GiB\", f\"{baseline_cpu_usage[30*GiB]:.2f}\", f\"{cache_ext_cpu_usage[30*GiB]:.2f}\", f\"{cpu_usage_diff[30*GiB]:.2f}%\"],\n",
    "])\n",
    "\n",
    "# Create the table\n",
    "fig = plt.figure(figsize=(8, 3))\n",
    "table = plt.table(cellText=table_data,\n",
    "                  colLabels=[\"Cgroup Size\", \"Baseline\", SYS_NAME, \"Diff (%)\"],\n",
    "                  cellLoc=\"center\",\n",
    "                  loc=\"center\")\n",
    "table.scale(1, 1.5)\n",
    "plt.axis(\"off\")\n",
    "plt.tight_layout()\n",
    "plt.show()"
   ]
  },
  {
   "cell_type": "code",
   "execution_count": 4,
   "metadata": {},
   "outputs": [
    {
     "data": {
      "text/plain": [
       "[{'name': 'leveldb_benchmark',\n",
       "  'cgroup_size': 5368709120,\n",
       "  'cgroup_name': 'baseline_test'},\n",
       " {'name': 'leveldb_benchmark',\n",
       "  'cgroup_size': 5368709120,\n",
       "  'cgroup_name': 'cache_ext_test'},\n",
       " {'name': 'leveldb_benchmark',\n",
       "  'cgroup_size': 10737418240,\n",
       "  'cgroup_name': 'baseline_test'},\n",
       " {'name': 'leveldb_benchmark',\n",
       "  'cgroup_size': 10737418240,\n",
       "  'cgroup_name': 'cache_ext_test'}]"
      ]
     },
     "metadata": {},
     "output_type": "display_data"
    },
    {
     "name": "stdout",
     "output_type": "stream",
     "text": [
      "{'name': 'leveldb_benchmark', 'cgroup_size': 5368709120, 'cgroup_name': 'baseline_test', 'benchmark': 'ycsb_a'}\n",
      "[]\n"
     ]
    },
    {
     "ename": "AssertionError",
     "evalue": "len(y_res) = 0",
     "output_type": "error",
     "traceback": [
      "\u001b[0;31m---------------------------------------------------------------------------\u001b[0m",
      "\u001b[0;31mAssertionError\u001b[0m                            Traceback (most recent call last)",
      "\u001b[0;32m/tmp/ipykernel_68710/3905754842.py\u001b[0m in \u001b[0;36m<module>\u001b[0;34m\u001b[0m\n\u001b[1;32m     13\u001b[0m \u001b[0mdisplay\u001b[0m\u001b[0;34m(\u001b[0m\u001b[0mconfig_matches\u001b[0m\u001b[0;34m)\u001b[0m\u001b[0;34m\u001b[0m\u001b[0;34m\u001b[0m\u001b[0m\n\u001b[1;32m     14\u001b[0m \u001b[0;34m\u001b[0m\u001b[0m\n\u001b[0;32m---> 15\u001b[0;31m \u001b[0mplot_lib\u001b[0m\u001b[0;34m.\u001b[0m\u001b[0mleveldb_plot_ycsb_results\u001b[0m\u001b[0;34m(\u001b[0m\u001b[0mconfig_matches\u001b[0m\u001b[0;34m,\u001b[0m \u001b[0mycsb_results\u001b[0m\u001b[0;34m,\u001b[0m \u001b[0mfilename\u001b[0m\u001b[0;34m=\u001b[0m\u001b[0;34m\"leveldb_ycsb_results.png\"\u001b[0m\u001b[0;34m,\u001b[0m \u001b[0mbench_types\u001b[0m\u001b[0;34m=\u001b[0m\u001b[0;34m[\u001b[0m\u001b[0;34m\"ycsb_a\"\u001b[0m\u001b[0;34m,\u001b[0m \u001b[0;34m\"ycsb_c\"\u001b[0m\u001b[0;34m]\u001b[0m\u001b[0;34m)\u001b[0m\u001b[0;34m\u001b[0m\u001b[0;34m\u001b[0m\u001b[0m\n\u001b[0m",
      "\u001b[0;32m/mydata/linux/linux/testing/page_cache_ext/bench_plot_lib.py\u001b[0m in \u001b[0;36mleveldb_plot_ycsb_results\u001b[0;34m(config_matches, results, colors, filename, name_func, bench_types, result_select_fn, ylimit, hide_y_ticks, measurement_rotation, measurement_fontsize, fontsize, legend_fontsize, measurement_offset, bar_width, group_newline, label_fontsize, legend_loc)\u001b[0m\n\u001b[1;32m    237\u001b[0m             \u001b[0mprint\u001b[0m\u001b[0;34m(\u001b[0m\u001b[0mconfig_match\u001b[0m\u001b[0;34m)\u001b[0m\u001b[0;34m\u001b[0m\u001b[0;34m\u001b[0m\u001b[0m\n\u001b[1;32m    238\u001b[0m             \u001b[0mprint\u001b[0m\u001b[0;34m(\u001b[0m\u001b[0my_res\u001b[0m\u001b[0;34m)\u001b[0m\u001b[0;34m\u001b[0m\u001b[0;34m\u001b[0m\u001b[0m\n\u001b[0;32m--> 239\u001b[0;31m             \u001b[0;32massert\u001b[0m \u001b[0mlen\u001b[0m\u001b[0;34m(\u001b[0m\u001b[0my_res\u001b[0m\u001b[0;34m)\u001b[0m \u001b[0;34m==\u001b[0m \u001b[0;36m1\u001b[0m\u001b[0;34m,\u001b[0m \u001b[0;34m\"len(y_res) = %d\"\u001b[0m \u001b[0;34m%\u001b[0m \u001b[0mlen\u001b[0m\u001b[0;34m(\u001b[0m\u001b[0my_res\u001b[0m\u001b[0;34m)\u001b[0m\u001b[0;34m\u001b[0m\u001b[0;34m\u001b[0m\u001b[0m\n\u001b[0m\u001b[1;32m    240\u001b[0m             \u001b[0mys\u001b[0m\u001b[0;34m.\u001b[0m\u001b[0mappend\u001b[0m\u001b[0;34m(\u001b[0m\u001b[0my_res\u001b[0m\u001b[0;34m[\u001b[0m\u001b[0;36m0\u001b[0m\u001b[0;34m]\u001b[0m\u001b[0;34m)\u001b[0m\u001b[0;34m\u001b[0m\u001b[0;34m\u001b[0m\u001b[0m\n\u001b[1;32m    241\u001b[0m         \u001b[0;32massert\u001b[0m \u001b[0mlen\u001b[0m\u001b[0;34m(\u001b[0m\u001b[0mys\u001b[0m\u001b[0;34m)\u001b[0m \u001b[0;34m==\u001b[0m \u001b[0mlen\u001b[0m\u001b[0;34m(\u001b[0m\u001b[0mgroups\u001b[0m\u001b[0;34m)\u001b[0m\u001b[0;34m,\u001b[0m \u001b[0;34m\"len(ys) = %d\"\u001b[0m \u001b[0;34m%\u001b[0m \u001b[0mlen\u001b[0m\u001b[0;34m(\u001b[0m\u001b[0mys\u001b[0m\u001b[0;34m)\u001b[0m\u001b[0;34m\u001b[0m\u001b[0;34m\u001b[0m\u001b[0m\n",
      "\u001b[0;31mAssertionError\u001b[0m: len(y_res) = 0"
     ]
    }
   ],
   "source": [
    "# YCSB results\n",
    "\n",
    "ycsb_results = bench_lib.parse_results_file(\"ycsb_results.json\", bench_lib.BenchResults)\n",
    "ycsb_results[0].results.__dict__\n",
    "\n",
    "config_matches = [\n",
    "    {\n",
    "        \"name\": \"leveldb_benchmark\",\n",
    "    }\n",
    "]\n",
    "config_matches = bench_lib.add_config_option(\"cgroup_size\", [5 * GiB, 10 * GiB], config_matches)\n",
    "config_matches = bench_lib.add_config_option(\"cgroup_name\", [bench_lib.DEFAULT_BASELINE_CGROUP, bench_lib.DEFAULT_CACHE_EXT_CGROUP], config_matches)\n",
    "display(config_matches)\n",
    "\n",
    "plot_lib.leveldb_plot_ycsb_results(config_matches, ycsb_results, filename=\"leveldb_ycsb_results.png\", bench_types=[\"ycsb_a\", \"ycsb_c\"])"
   ]
  }
 ],
 "metadata": {
  "kernelspec": {
   "display_name": "Python 3",
   "language": "python",
   "name": "python3"
  },
  "language_info": {
   "codemirror_mode": {
    "name": "ipython",
    "version": 3
   },
   "file_extension": ".py",
   "mimetype": "text/x-python",
   "name": "python",
   "nbconvert_exporter": "python",
   "pygments_lexer": "ipython3",
   "version": "3.10.12"
  }
 },
 "nbformat": 4,
 "nbformat_minor": 2
}
