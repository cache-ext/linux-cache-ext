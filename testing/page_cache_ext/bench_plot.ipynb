{
 "cells": [
  {
   "cell_type": "code",
   "execution_count": 2,
   "metadata": {},
   "outputs": [],
   "source": [
    "import bench_lib\n",
    "import numpy as np\n",
    "import pandas as pd\n",
    "import matplotlib.pyplot as plt\n",
    "import bench_plot_lib as plot_lib\n",
    "\n",
    "import importlib\n",
    "importlib.reload(bench_lib)\n",
    "importlib.reload(plot_lib)\n",
    "\n",
    "GiB = 2**30\n",
    "\n",
    "SYS_NAME = \"cache_ext\"\n",
    "FIGURES_DIR = \"figures/\"\n",
    "iops_select_fn = lambda r: r[\"jobs\"][0][\"read\"][\"iops\"]\n",
    "leveldb_throughput_avg_select_fn = lambda r: r[\"throughput_avg\"]\n",
    "leveldb_latency_p99_select_fn = lambda r: r[\"latency_p99\"] / 10**3\n",
    "leveldb_read_latency_p99_select_fn = lambda r: r[\"read_latency_p99\"] / 10**3\n",
    "\n",
    "def filter_cgroup_results(results, cgroup_name):\n",
    "    return [r for r in results if r.config[\"cgroup_name\"] == cgroup_name]\n",
    "\n",
    "def filter_cache_ext_results(results):\n",
    "    return filter_cgroup_results(results, bench_lib.DEFAULT_CACHE_EXT_CGROUP)"
   ]
  },
  {
   "cell_type": "markdown",
   "metadata": {},
   "source": [
    "## Filesearch Benchmark"
   ]
  },
  {
   "cell_type": "code",
   "execution_count": 13,
   "metadata": {},
   "outputs": [
    {
     "name": "stdout",
     "output_type": "stream",
     "text": [
      "{'name': 'filesearch_benchmark', 'cgroup_size': 1073741824, 'cgroup_name': 'baseline_test', 'benchmark': 'filesearch'}\n",
      "[45.02097177505493]\n",
      "{'name': 'filesearch_benchmark', 'cgroup_size': 1073741824, 'cgroup_name': 'cache_ext_test', 'benchmark': 'filesearch'}\n",
      "[24.680588006973267]\n",
      "[[45.02097177505493], [24.680588006973267]]\n",
      "['Baseline', 'cache_ext']\n",
      "[-0.5  0.5]\n",
      "[-0.5]\n",
      "[0.5]\n"
     ]
    },
    {
     "data": {
      "text/plain": [
       "<Figure size 432x288 with 0 Axes>"
      ]
     },
     "metadata": {},
     "output_type": "display_data"
    }
   ],
   "source": [
    "baseline_filesearch_results = bench_lib.parse_results_file(\"baseline_filesearch_results.json\", bench_lib.BenchResults)\n",
    "cache_ext_filesearch_results = bench_lib.parse_results_file(\"filesearch_results.json\", bench_lib.BenchResults)\n",
    "cache_ext_filesearch_results = filter_cache_ext_results(cache_ext_filesearch_results)\n",
    "filesearch_results = baseline_filesearch_results + cache_ext_filesearch_results\n",
    "\n",
    "config_matches = [{\"name\": \"filesearch_benchmark\"}]\n",
    "config_matches = bench_lib.add_config_option(\"cgroup_size\", [1* GiB], config_matches)\n",
    "config_matches = bench_lib.add_config_option(\"cgroup_name\", [bench_lib.DEFAULT_BASELINE_CGROUP, bench_lib.DEFAULT_CACHE_EXT_CGROUP], config_matches)\n",
    "\n",
    "runtime_select_fn = lambda r: r[\"runtime_sec\"]\n",
    "\n",
    "plot_lib.bench_plot_groupped_results(\n",
    "    config_matches,\n",
    "    filesearch_results,\n",
    "    y_label=\"Runtime (s)\",\n",
    "    show_measurements=False,\n",
    "    colors=[\"salmon\", \"limegreen\"],\n",
    "    bench_types=[\"filesearch\"],\n",
    "    result_select_fn=runtime_select_fn,\n",
    "    bench_type_to_group={\"filesearch\": \"File Search\"},\n",
    "    filename=FIGURES_DIR + \"filesearch_results.pdf\"\n",
    "    )"
   ]
  },
  {
   "cell_type": "markdown",
   "metadata": {},
   "source": [
    "## Generic Policies"
   ]
  },
  {
   "cell_type": "code",
   "execution_count": 18,
   "metadata": {},
   "outputs": [
    {
     "data": {
      "text/plain": [
       "[{'name': 'leveldb_benchmark',\n",
       "  'iteration': 1,\n",
       "  'cgroup_size': 10737418240,\n",
       "  'cgroup_name': 'baseline_test'},\n",
       " {'name': 'leveldb_benchmark',\n",
       "  'iteration': 1,\n",
       "  'cgroup_size': 10737418240,\n",
       "  'cgroup_name': 'cache_ext_test'}]"
      ]
     },
     "metadata": {},
     "output_type": "display_data"
    },
    {
     "name": "stdout",
     "output_type": "stream",
     "text": [
      "{'name': 'leveldb_benchmark', 'iteration': 1, 'cgroup_size': 10737418240, 'cgroup_name': 'baseline_test', 'benchmark': 'ycsb_a'}\n",
      "[15125.59]\n",
      "{'name': 'leveldb_benchmark', 'iteration': 1, 'cgroup_size': 10737418240, 'cgroup_name': 'baseline_test', 'benchmark': 'ycsb_b'}\n",
      "[7485.47]\n",
      "{'name': 'leveldb_benchmark', 'iteration': 1, 'cgroup_size': 10737418240, 'cgroup_name': 'baseline_test', 'benchmark': 'ycsb_c'}\n",
      "[5068.67]\n",
      "{'name': 'leveldb_benchmark', 'iteration': 1, 'cgroup_size': 10737418240, 'cgroup_name': 'cache_ext_test', 'benchmark': 'ycsb_a'}\n",
      "[15623.15]\n",
      "{'name': 'leveldb_benchmark', 'iteration': 1, 'cgroup_size': 10737418240, 'cgroup_name': 'cache_ext_test', 'benchmark': 'ycsb_b'}\n",
      "[8283.2]\n",
      "{'name': 'leveldb_benchmark', 'iteration': 1, 'cgroup_size': 10737418240, 'cgroup_name': 'cache_ext_test', 'benchmark': 'ycsb_c'}\n",
      "[5914.66]\n",
      "[[15125.59, 7485.47, 5068.67], [15623.15, 8283.2, 5914.66]]\n",
      "['Baseline', 'cache_ext']\n",
      "[-0.5  0.5]\n",
      "[-0.5  3.5  7.5]\n",
      "[0.5 4.5 8.5]\n",
      "{'name': 'leveldb_benchmark', 'iteration': 1, 'cgroup_size': 10737418240, 'cgroup_name': 'baseline_test', 'benchmark': 'ycsb_a'}\n",
      "[3134.69194]\n",
      "{'name': 'leveldb_benchmark', 'iteration': 1, 'cgroup_size': 10737418240, 'cgroup_name': 'baseline_test', 'benchmark': 'ycsb_b'}\n",
      "[5485.83797]\n",
      "{'name': 'leveldb_benchmark', 'iteration': 1, 'cgroup_size': 10737418240, 'cgroup_name': 'baseline_test', 'benchmark': 'ycsb_c'}\n",
      "[9108.879429999999]\n",
      "{'name': 'leveldb_benchmark', 'iteration': 1, 'cgroup_size': 10737418240, 'cgroup_name': 'cache_ext_test', 'benchmark': 'ycsb_a'}\n",
      "[3458.5449]\n",
      "{'name': 'leveldb_benchmark', 'iteration': 1, 'cgroup_size': 10737418240, 'cgroup_name': 'cache_ext_test', 'benchmark': 'ycsb_b'}\n",
      "[5048.38142]\n",
      "{'name': 'leveldb_benchmark', 'iteration': 1, 'cgroup_size': 10737418240, 'cgroup_name': 'cache_ext_test', 'benchmark': 'ycsb_c'}\n",
      "[6697.2693]\n",
      "[[3134.69194, 5485.83797, 9108.879429999999], [3458.5449, 5048.38142, 6697.2693]]\n",
      "['Baseline', 'cache_ext']\n",
      "[-0.5  0.5]\n",
      "[-0.5  3.5  7.5]\n",
      "[0.5 4.5 8.5]\n"
     ]
    },
    {
     "data": {
      "text/plain": [
       "<Figure size 432x288 with 0 Axes>"
      ]
     },
     "metadata": {},
     "output_type": "display_data"
    }
   ],
   "source": [
    "# YCSB results\n",
    "\n",
    "baseline_ycsb_results = bench_lib.parse_results_file(\"baseline_lfu_ycsb_results.json\", bench_lib.BenchResults)\n",
    "cache_ext_filesearch_results = bench_lib.parse_results_file(\"lfu_ycsb_results.json\", bench_lib.BenchResults)\n",
    "cache_ext_filesearch_results = filter_cache_ext_results(cache_ext_filesearch_results)\n",
    "ycsb_results = baseline_ycsb_results + cache_ext_filesearch_results\n",
    "\n",
    "config_matches = [\n",
    "    {\n",
    "        \"name\": \"leveldb_benchmark\",\n",
    "        \"iteration\": 1,\n",
    "    }\n",
    "]\n",
    "config_matches = bench_lib.add_config_option(\"cgroup_size\", [10 * GiB], config_matches)\n",
    "config_matches = bench_lib.add_config_option(\"cgroup_name\", [bench_lib.DEFAULT_BASELINE_CGROUP, bench_lib.DEFAULT_CACHE_EXT_CGROUP], config_matches)\n",
    "display(config_matches)\n",
    "\n",
    "\n",
    "plot_lib.leveldb_plot_ycsb_results(\n",
    "    config_matches,\n",
    "    ycsb_results,\n",
    "    colors=[\"salmon\", \"limegreen\"],\n",
    "    bench_types=[\"ycsb_a\", \"ycsb_b\", \"ycsb_c\"],\n",
    "    filename=FIGURES_DIR + \"leveldb_ycsb_throughput.pdf\",\n",
    "    bar_width=1,\n",
    "    show_measurements=False,\n",
    "    result_select_fn=leveldb_throughput_avg_select_fn,\n",
    ")\n",
    "\n",
    "plot_lib.leveldb_plot_ycsb_results(\n",
    "    config_matches,\n",
    "    ycsb_results,\n",
    "    colors=[\"salmon\", \"limegreen\"],\n",
    "    bench_types=[\"ycsb_a\", \"ycsb_b\", \"ycsb_c\"],\n",
    "    filename=FIGURES_DIR + \"leveldb_ycsb_latency.pdf\",\n",
    "    bar_width=1,\n",
    "    result_select_fn=leveldb_latency_p99_select_fn,\n",
    "    show_measurements=False,\n",
    "    y_label=\"Latency (us)\",\n",
    ")"
   ]
  },
  {
   "cell_type": "markdown",
   "metadata": {},
   "source": [
    "## Application-Informed Policy"
   ]
  },
  {
   "cell_type": "code",
   "execution_count": 5,
   "metadata": {},
   "outputs": [
    {
     "name": "stdout",
     "output_type": "stream",
     "text": [
      "Throughput improvement: 1.63x\n",
      "Latency reduction: 85.11%\n",
      "{'name': 'leveldb_benchmark', 'cgroup_size': 10737418240, 'cgroup_name': 'cache_ext_test', 'benchmark': 'mixed_get_scan'}\n",
      "[2382.78]\n",
      "{'name': 'leveldb_benchmark', 'cgroup_size': 10737418240, 'cgroup_name': 'baseline_test', 'fadvise': '', 'iteration': 1, 'benchmark': 'mixed_get_scan'}\n",
      "[1462.89]\n",
      "{'name': 'leveldb_benchmark', 'cgroup_size': 10737418240, 'cgroup_name': 'baseline_test', 'fadvise': 'NOREUSE', 'benchmark': 'mixed_get_scan'}\n",
      "[1592.12]\n",
      "{'name': 'leveldb_benchmark', 'cgroup_size': 10737418240, 'cgroup_name': 'baseline_test', 'fadvise': 'DONTNEED', 'benchmark': 'mixed_get_scan'}\n",
      "[1623.56]\n",
      "{'name': 'leveldb_benchmark', 'cgroup_size': 10737418240, 'cgroup_name': 'baseline_test', 'fadvise': 'SEQUENTIAL', 'benchmark': 'mixed_get_scan'}\n",
      "[1558.93]\n",
      "[[2382.78], [1462.89], [1592.12], [1623.56], [1558.93]]\n",
      "['cache_ext', 'Baseline', 'FADVISE_NOREUSE', 'FADVISE_DONTNEED', 'FADVISE_SEQUENTIAL']\n",
      "[-0.6 -0.3  0.   0.3  0.6]\n",
      "[-0.6]\n",
      "[-0.3]\n",
      "[0.]\n",
      "[0.3]\n",
      "[0.6]\n",
      "{'name': 'leveldb_benchmark', 'cgroup_size': 10737418240, 'cgroup_name': 'cache_ext_test', 'benchmark': 'mixed_get_scan'}\n",
      "[6546.88341]\n",
      "{'name': 'leveldb_benchmark', 'cgroup_size': 10737418240, 'cgroup_name': 'baseline_test', 'fadvise': '', 'iteration': 1, 'benchmark': 'mixed_get_scan'}\n",
      "[43978.615560000006]\n",
      "{'name': 'leveldb_benchmark', 'cgroup_size': 10737418240, 'cgroup_name': 'baseline_test', 'fadvise': 'NOREUSE', 'benchmark': 'mixed_get_scan'}\n",
      "[43256.88201]\n",
      "{'name': 'leveldb_benchmark', 'cgroup_size': 10737418240, 'cgroup_name': 'baseline_test', 'fadvise': 'DONTNEED', 'benchmark': 'mixed_get_scan'}\n",
      "[43124.99339]\n",
      "{'name': 'leveldb_benchmark', 'cgroup_size': 10737418240, 'cgroup_name': 'baseline_test', 'fadvise': 'SEQUENTIAL', 'benchmark': 'mixed_get_scan'}\n",
      "[43171.81]\n",
      "[[6546.88341], [43978.615560000006], [43256.88201], [43124.99339], [43171.81]]\n",
      "['cache_ext', 'Baseline', 'FADVISE_NOREUSE', 'FADVISE_DONTNEED', 'FADVISE_SEQUENTIAL']\n",
      "[-0.6 -0.3  0.   0.3  0.6]\n",
      "[-0.6]\n",
      "[-0.3]\n",
      "[0.]\n",
      "[0.3]\n",
      "[0.6]\n"
     ]
    },
    {
     "data": {
      "text/plain": [
       "<Figure size 432x288 with 0 Axes>"
      ]
     },
     "metadata": {},
     "output_type": "display_data"
    }
   ],
   "source": [
    "# Mixed GET-SCAN results\n",
    "baseline_get_scan_results = bench_lib.parse_results_file(\"baseline_get_scan_results.json\", bench_lib.BenchResults)\n",
    "cache_ext_get_scan_results = bench_lib.parse_results_file(\"get_scan_ycsb_results_fadvise.json\", bench_lib.BenchResults)\n",
    "cache_ext_get_scan_results = filter_cache_ext_results(cache_ext_get_scan_results)\n",
    "get_scan_results = baseline_get_scan_results + cache_ext_get_scan_results\n",
    "\n",
    "config_matches = [\n",
    "    {\n",
    "        \"name\": \"leveldb_benchmark\",\n",
    "    }\n",
    "]\n",
    "\n",
    "config_matches = bench_lib.add_config_option(\"cgroup_size\", [10 * GiB], config_matches)\n",
    "config_matches = bench_lib.add_config_option(\"cgroup_name\", [bench_lib.DEFAULT_BASELINE_CGROUP, bench_lib.DEFAULT_CACHE_EXT_CGROUP], config_matches)\n",
    "\n",
    "# Get the baseline config and generate two more:\n",
    "# - One with \"fadvise\": \"NOREUSE\"\n",
    "# - One with \"fadvise\": \"DONTNEED\"\n",
    "# - One with \"fadvise\": \"SEQUENTIAL\"\n",
    "baseline_config = config_matches[0].copy()\n",
    "config_matches[0][\"fadvise\"] = \"\"\n",
    "config_matches.extend([\n",
    "    {**baseline_config, \"fadvise\": \"NOREUSE\"},\n",
    "    {**baseline_config, \"fadvise\": \"DONTNEED\"},\n",
    "    {**baseline_config, \"fadvise\": \"SEQUENTIAL\"}\n",
    "])\n",
    "\n",
    "# Swap the 0-th and 1-st elements to have the cache_ext config first\n",
    "config_matches[0], config_matches[1] = config_matches[1], config_matches[0]\n",
    "\n",
    "cache_ext_idx = 0\n",
    "baseline_idx = 1\n",
    "\n",
    "config_matches[baseline_idx][\"iteration\"] = 1\n",
    "throughput_baseline = leveldb_throughput_avg_select_fn(bench_lib.single_result_select(get_scan_results, config_matches[baseline_idx]).results)\n",
    "latency_baseline = leveldb_read_latency_p99_select_fn(bench_lib.single_result_select(get_scan_results, config_matches[baseline_idx]).results)\n",
    "throughput_cache_ext = leveldb_throughput_avg_select_fn(bench_lib.single_result_select(get_scan_results, config_matches[cache_ext_idx]).results)\n",
    "latency_cache_ext = leveldb_read_latency_p99_select_fn(bench_lib.single_result_select(get_scan_results, config_matches[cache_ext_idx]).results)\n",
    "\n",
    "# Calculate improvement over baseline\n",
    "throughput_improvement = throughput_cache_ext / throughput_baseline\n",
    "latency_improvement = (latency_baseline - latency_cache_ext) / latency_baseline * 100\n",
    "print(f\"Throughput improvement: {throughput_improvement:.2f}x\")\n",
    "print(f\"Latency reduction: {latency_improvement:.2f}%\")\n",
    "\n",
    "plot_lib.leveldb_plot_ycsb_results(\n",
    "    config_matches,\n",
    "    get_scan_results,\n",
    "    result_select_fn=leveldb_throughput_avg_select_fn,\n",
    "    colors=[\"salmon\", \"lightgreen\", \"limegreen\", \"olivedrab\", \"darkolivegreen\"],\n",
    "    bench_types=[\"mixed_get_scan\"],\n",
    "    filename=FIGURES_DIR + \"get_scan_throughput.pdf\",\n",
    "    bar_width=0.3,\n",
    "    show_measurements=False,\n",
    "    fontsize=16,\n",
    ")\n",
    "\n",
    "plot_lib.leveldb_plot_ycsb_results(\n",
    "    config_matches,\n",
    "    get_scan_results,\n",
    "    result_select_fn=leveldb_read_latency_p99_select_fn,\n",
    "    colors=[\"salmon\", \"lightgreen\", \"limegreen\", \"olivedrab\", \"darkolivegreen\"],\n",
    "    bench_types=[\"mixed_get_scan\"],\n",
    "    filename=FIGURES_DIR + \"get_scan_latency.pdf\",\n",
    "    y_label=\"Latency (us)\",\n",
    "    bar_width=0.3,\n",
    "    show_measurements=False,\n",
    "    fontsize=16,\n",
    ")"
   ]
  },
  {
   "cell_type": "markdown",
   "metadata": {},
   "source": [
    "## Lines of Code - UX Evaluation"
   ]
  },
  {
   "cell_type": "code",
   "execution_count": 14,
   "metadata": {},
   "outputs": [
    {
     "data": {
      "image/png": "[encoded data removed]",
      "text/plain": [
       "<Figure size 576x216 with 1 Axes>"
      ]
     },
     "metadata": {
      "needs_background": "light"
     },
     "output_type": "display_data"
    }
   ],
   "source": [
    "# Lines of code required for each policy\n",
    "\n",
    "def c_file_is_loc(line: str):\n",
    "    line = line.strip()\n",
    "    if line.startswith(\"//\") or line.startswith(\"/*\") or line == \"\":\n",
    "        return False\n",
    "    return True\n",
    "\n",
    "def c_file_count_loc(file_path: str):\n",
    "    if not file_path.endswith(\".c\"):\n",
    "        raise ValueError(\"File must be a C file\")\n",
    "    with open(file_path, \"r\") as f:\n",
    "        lines = f.readlines()\n",
    "    loc_count = 0\n",
    "    for line in lines:\n",
    "        if c_file_is_loc(line):\n",
    "            loc_count += 1\n",
    "    return loc_count\n",
    "\n",
    "mru_loc_count = c_file_count_loc(\"page_cache_ext_mru.bpf.c\")\n",
    "lfu_loc_count = c_file_count_loc(\"page_cache_ext_sampling.bpf.c\")\n",
    "get_scan_loc_count = c_file_count_loc(\"page_cache_ext_get_scan.bpf.c\")\n",
    "\n",
    "# Put the LOC data in a table\n",
    "table_data = [\n",
    "    [\"MRU\", mru_loc_count],\n",
    "    [\"LFU\", lfu_loc_count],\n",
    "    [\"Get-Scan\", get_scan_loc_count],\n",
    "]\n",
    "\n",
    "# Create the table\n",
    "fig = plt.figure(figsize=(8, 3))\n",
    "table = plt.table(cellText=table_data,\n",
    "                  colLabels=[\"Policy\", \"Lines of Code\"],\n",
    "                  cellLoc=\"center\",\n",
    "                  loc=\"center\")\n",
    "\n",
    "table.scale(1, 1.5)\n",
    "plt.axis(\"off\")\n",
    "plt.tight_layout()\n",
    "plt.show()\n",
    "\n",
    "# Create a dataframe for the same table\n",
    "df = pd.DataFrame(table_data, columns=[\"Policy\", \"Lines of Code\"])\n",
    "df.to_latex(FIGURES_DIR + \"loc_table.tex\", index=False,\n",
    "            caption=\"Lines of code required for each policy presented.\",\n",
    "            label=\"tab:loc-per-policy\")\n"
   ]
  },
  {
   "cell_type": "markdown",
   "metadata": {},
   "source": [
    "## FIO Microbenchmark"
   ]
  },
  {
   "cell_type": "code",
   "execution_count": 19,
   "metadata": {},
   "outputs": [
    {
     "data": {
      "image/png": "[encoded data removed]",
      "text/plain": [
       "<Figure size 576x216 with 1 Axes>"
      ]
     },
     "metadata": {
      "needs_background": "light"
     },
     "output_type": "display_data"
    }
   ],
   "source": [
    "# Plot fio results\n",
    "\n",
    "baseline_fio_results = bench_lib.parse_results_file(\"baseline_fio_results.json\", bench_lib.BenchResults)\n",
    "cache_ext_fio_results = bench_lib.parse_results_file(\"fio_results.json\", bench_lib.BenchResults)\n",
    "cache_ext_fio_results = filter_cache_ext_results(cache_ext_fio_results)\n",
    "fio_results = baseline_fio_results + cache_ext_fio_results\n",
    "\n",
    "cgroup_size = 30 * GiB\n",
    "cgroup_sizes = [5 * GiB, 10 * GiB, 20 * GiB, 30 * GiB]\n",
    "\n",
    "baseline_config_match = {\n",
    "    \"name\": \"fio_benchmark\",\n",
    "    \"workload\": \"randread\",\n",
    "    \"cgroup_name\": \"baseline_test\",\n",
    "}\n",
    "\n",
    "cache_ext_config_match = {\n",
    "    \"name\": \"fio_benchmark\",\n",
    "    \"workload\": \"randread\",\n",
    "    \"cgroup_name\": \"cache_ext_test\",\n",
    "}\n",
    "\n",
    "baseline_iops = {}\n",
    "cache_ext_iops = {}\n",
    "iops_diff = {}\n",
    "for cgroup_size in cgroup_sizes:\n",
    "    baseline_config_match[\"cgroup_size\"] = cgroup_size\n",
    "    baseline_iops[cgroup_size] = plot_lib.results_select(fio_results, baseline_config_match, iops_select_fn)\n",
    "    baseline_iops[cgroup_size] = np.mean(baseline_iops[cgroup_size])\n",
    "    cache_ext_iops[cgroup_size] = plot_lib.results_select(fio_results, cache_ext_config_match, iops_select_fn)\n",
    "    cache_ext_iops[cgroup_size] = np.mean(cache_ext_iops[cgroup_size])\n",
    "    iops_diff[cgroup_size] = (cache_ext_iops[cgroup_size] - baseline_iops[cgroup_size]) / cache_ext_iops[cgroup_size] * 100\n",
    "\n",
    "\n",
    "baseline_cpu_usage = {}\n",
    "cache_ext_cpu_usage = {}\n",
    "cpu_usage_diff = {}\n",
    "for cgroup_size in cgroup_sizes:\n",
    "    baseline_config_match[\"cgroup_size\"] = cgroup_size\n",
    "    baseline_cpu = plot_lib.results_select(fio_results, baseline_config_match, lambda r: r[\"cpu_usage\"])\n",
    "    baseline_cpu_usage[cgroup_size] = np.mean(baseline_cpu) / baseline_iops[cgroup_size] * 10**6\n",
    "\n",
    "    cache_ext_config_match[\"cgroup_size\"] = cgroup_size\n",
    "    cache_ext_cpu = plot_lib.results_select(fio_results, cache_ext_config_match, lambda r: r[\"cpu_usage\"])\n",
    "    cache_ext_cpu_usage[cgroup_size] = np.mean(cache_ext_cpu) / cache_ext_iops[cgroup_size] * 10**6\n",
    "\n",
    "    cpu_usage_diff[cgroup_size] = (cache_ext_cpu_usage[cgroup_size] - baseline_cpu_usage[cgroup_size]) / cache_ext_cpu_usage[cgroup_size] * 100\n",
    "\n",
    "# print(baseline_cpu_usage)\n",
    "\n",
    "# Put the CPU overhead data in a table\n",
    "table_data = []\n",
    "\n",
    "# Add a row for CPU usage\n",
    "table_data.extend([\n",
    "    [\"5 GiB\", f\"{baseline_cpu_usage[5*GiB]:.2f}\", f\"{cache_ext_cpu_usage[5*GiB]:.2f}\", f\"{cpu_usage_diff[5*GiB]:.2f}%\"],\n",
    "    [\"10 GiB\", f\"{baseline_cpu_usage[10*GiB]:.2f}\", f\"{cache_ext_cpu_usage[10*GiB]:.2f}\", f\"{cpu_usage_diff[10*GiB]:.2f}%\"],\n",
    "    [\"30 GiB\", f\"{baseline_cpu_usage[30*GiB]:.2f}\", f\"{cache_ext_cpu_usage[30*GiB]:.2f}\", f\"{cpu_usage_diff[30*GiB]:.2f}%\"],\n",
    "])\n",
    "\n",
    "# Create the table\n",
    "fig = plt.figure(figsize=(8, 3))\n",
    "table = plt.table(cellText=table_data,\n",
    "                  colLabels=[\"Cgroup Size\", \"Baseline\", SYS_NAME, \"Overhead (%)\"],\n",
    "                  cellLoc=\"center\",\n",
    "                  loc=\"center\")\n",
    "table.scale(1, 1.5)\n",
    "plt.axis(\"off\")\n",
    "plt.tight_layout()\n",
    "plt.show()\n",
    "\n",
    "# Create a dataframe for the same table\n",
    "df = pd.DataFrame(table_data, columns=[\"Cgroup Size\", \"Baseline\", SYS_NAME, \"Overhead (%)\"])\n",
    "df.to_latex(FIGURES_DIR + \"cpu_overhead_table.tex\", index=False,\n",
    "            caption=\"fio microbenchmark results to measure CPU overhead of \\name per IO operation.\",\n",
    "            label=\"tab:eval-cpu-overhead\",)\n"
   ]
  },
  {
   "cell_type": "code",
   "execution_count": 17,
   "metadata": {},
   "outputs": [
    {
     "name": "stdout",
     "output_type": "stream",
     "text": [
      "{'name': 'iotrace_benchmark', 'iteration': 1, 'cgroup_size': 5368709120, 'cgroup_name': 'baseline_test', 'benchmark': 'trace_cluster1_16TB_20240115_data-00000-of-00100'}\n",
      "[432.71]\n",
      "{'name': 'iotrace_benchmark', 'iteration': 1, 'cgroup_size': 5368709120, 'cgroup_name': 'cache_ext_test', 'benchmark': 'trace_cluster1_16TB_20240115_data-00000-of-00100'}\n",
      "[914.49]\n",
      "{'name': 'iotrace_benchmark', 'iteration': 1, 'cgroup_size': 10737418240, 'cgroup_name': 'baseline_test', 'benchmark': 'trace_cluster1_16TB_20240115_data-00000-of-00100'}\n",
      "[52.77]\n",
      "{'name': 'iotrace_benchmark', 'iteration': 1, 'cgroup_size': 10737418240, 'cgroup_name': 'cache_ext_test', 'benchmark': 'trace_cluster1_16TB_20240115_data-00000-of-00100'}\n",
      "[46.1]\n",
      "[[432.71], [914.49], [52.77], [46.1]]\n",
      "['Baseline', 'cache_ext', 'Baseline', 'cache_ext']\n",
      "[-0.45 -0.15  0.15  0.45]\n",
      "[-0.45]\n",
      "[-0.15]\n",
      "[0.15]\n",
      "[0.45]\n"
     ]
    },
    {
     "data": {
      "text/plain": [
       "<Figure size 432x288 with 0 Axes>"
      ]
     },
     "metadata": {},
     "output_type": "display_data"
    }
   ],
   "source": [
    "google_io_trace_results = bench_lib.parse_results_file(\"io_trace_results.json\", bench_lib.BenchResults)\n",
    "\n",
    "config_matches = [\n",
    "    {\n",
    "        \"name\": \"iotrace_benchmark\",\n",
    "        \"iteration\": 1,\n",
    "    }\n",
    "]\n",
    "\n",
    "config_matches = bench_lib.add_config_option(\"cgroup_size\", [5 * GiB, 10 * GiB], config_matches)\n",
    "config_matches = bench_lib.add_config_option(\"cgroup_name\", [bench_lib.DEFAULT_BASELINE_CGROUP, bench_lib.DEFAULT_CACHE_EXT_CGROUP], config_matches)\n",
    "\n",
    "\n",
    "plot_lib.bench_plot_groupped_results(\n",
    "    config_matches,\n",
    "    google_io_trace_results,\n",
    "    colors=[\"salmon\", \"maroon\", \"limegreen\", \"olivedrab\"],\n",
    "    bench_types=[\"trace_cluster1_16TB_20240115_data-00000-of-00100\"],\n",
    "    filename=\"leveldb_ycsb_results.pdf\",\n",
    "    bar_width=0.3,\n",
    ")"
   ]
  }
 ],
 "metadata": {
  "kernelspec": {
   "display_name": "Python 3",
   "language": "python",
   "name": "python3"
  },
  "language_info": {
   "codemirror_mode": {
    "name": "ipython",
    "version": 3
   },
   "file_extension": ".py",
   "mimetype": "text/x-python",
   "name": "python",
   "nbconvert_exporter": "python",
   "pygments_lexer": "ipython3",
   "version": "3.10.12"
  }
 },
 "nbformat": 4,
 "nbformat_minor": 2
}
