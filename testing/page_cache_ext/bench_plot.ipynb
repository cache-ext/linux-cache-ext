{
 "cells": [
  {
   "cell_type": "code",
   "execution_count": 1,
   "metadata": {},
   "outputs": [],
   "source": [
    "import bench_lib\n",
    "import numpy as np\n",
    "import matplotlib.pyplot as plt\n",
    "import bench_plot_lib as plot_lib"
   ]
  },
  {
   "cell_type": "code",
   "execution_count": 2,
   "metadata": {},
   "outputs": [],
   "source": [
    "GiB = 2**30\n",
    "\n",
    "SYS_NAME = \"cache_ext\"\n",
    "iops_select_fn = lambda r: r[\"jobs\"][0][\"read\"][\"iops\"]\n"
   ]
  },
  {
   "cell_type": "code",
   "execution_count": 19,
   "metadata": {},
   "outputs": [
    {
     "data": {
      "image/png": "[encoded data removed]",
      "text/plain": [
       "<Figure size 576x144 with 1 Axes>"
      ]
     },
     "metadata": {
      "needs_background": "light"
     },
     "output_type": "display_data"
    }
   ],
   "source": [
    "# Plot fio results\n",
    "\n",
    "fio_results = bench_lib.parse_results_file(\"results.json\", bench_lib.BenchResults)\n",
    "\n",
    "cgroup_size = 20 * GiB\n",
    "\n",
    "baseline_config_match = {\n",
    "    \"name\": \"fio_benchmark\",\n",
    "    \"workload\": \"randread\",\n",
    "    \"cgroup_name\": \"baseline_test\",\n",
    "    \"cgroup_size\": cgroup_size,\n",
    "}\n",
    "\n",
    "cache_ext_config_match = {\n",
    "    \"name\": \"fio_benchmark\",\n",
    "    \"workload\": \"randread\",\n",
    "    \"cgroup_name\": \"cache_ext_test\",\n",
    "    \"cgroup_size\": cgroup_size,\n",
    "}\n",
    "\n",
    "baseline_iops = plot_lib.results_select(fio_results, baseline_config_match, iops_select_fn)\n",
    "baseline_iops = np.mean(baseline_iops)\n",
    "cache_ext_iops = plot_lib.results_select(fio_results, cache_ext_config_match, iops_select_fn)\n",
    "cache_ext_iops = np.mean(cache_ext_iops)\n",
    "iops_diff = (cache_ext_iops - baseline_iops) / cache_ext_iops * 100\n",
    "\n",
    "baseline_cpu_usage = plot_lib.results_select(fio_results, baseline_config_match, lambda r: r[\"cpu_usage\"])\n",
    "baseline_cpu_usage = np.mean(baseline_cpu_usage) / baseline_iops * 1000000\n",
    "cache_ext_cpu_usage = plot_lib.results_select(fio_results, cache_ext_config_match, lambda r: r[\"cpu_usage\"])\n",
    "cache_ext_cpu_usage = np.mean(cache_ext_cpu_usage) / cache_ext_iops * 1000000\n",
    "cpu_usage_diff = (cache_ext_cpu_usage - baseline_cpu_usage) / cache_ext_cpu_usage * 100\n",
    "\n",
    "# print(baseline_cpu_usage)\n",
    "\n",
    "# Put in a table\n",
    "# Create a table with matplotlib\n",
    "fig, ax = plt.subplots(figsize=(8, 2))  # Adjust figure size as needed\n",
    "ax.axis(\"off\")  # Hide axes\n",
    "\n",
    "table_data = [\n",
    "    [\"IOPS\", f\"{baseline_iops:.2f}\", f\"{cache_ext_iops:.2f}\", f\"{iops_diff:.2f}\"],\n",
    "    [\"CPU Usage (%)\", f\"{baseline_cpu_usage:.2f}\", f\"{cache_ext_cpu_usage:.2f}\", f\"{cpu_usage_diff:.2f}\"],\n",
    "]\n",
    "\n",
    "table = ax.table(cellText=table_data,\n",
    "                 colLabels=[\"\", \"Baseline\", SYS_NAME, \"Diff\"],\n",
    "                 cellLoc=\"center\",\n",
    "                 loc=\"center\")\n",
    "\n",
    "table.auto_set_font_size(False)\n",
    "table.set_fontsize(10)\n",
    "table.scale(1.2, 1.5)  # Adjust table size\n",
    "\n",
    "plt.title(\"FIO Benchmark Results\")\n",
    "plt.tight_layout()\n",
    "plt.show()\n"
   ]
  },
  {
   "cell_type": "code",
   "execution_count": 4,
   "metadata": {},
   "outputs": [
    {
     "data": {
      "text/plain": [
       "[{'cgroup_name': 'baseline_test', 'cgroup_size': 5368709120},\n",
       " {'cgroup_name': 'cache_ext_test', 'cgroup_size': 5368709120},\n",
       " {'cgroup_name': 'baseline_test', 'cgroup_size': 10737418240},\n",
       " {'cgroup_name': 'cache_ext_test', 'cgroup_size': 10737418240},\n",
       " {'cgroup_name': 'baseline_test', 'cgroup_size': 21474836480},\n",
       " {'cgroup_name': 'cache_ext_test', 'cgroup_size': 21474836480}]"
      ]
     },
     "execution_count": 4,
     "metadata": {},
     "output_type": "execute_result"
    }
   ],
   "source": [
    "plot_lib.config_combinations(fio_results, [\"cgroup_name\", \"cgroup_size\"])"
   ]
  }
 ],
 "metadata": {
  "kernelspec": {
   "display_name": "Python 3",
   "language": "python",
   "name": "python3"
  },
  "language_info": {
   "codemirror_mode": {
    "name": "ipython",
    "version": 3
   },
   "file_extension": ".py",
   "mimetype": "text/x-python",
   "name": "python",
   "nbconvert_exporter": "python",
   "pygments_lexer": "ipython3",
   "version": "3.10.12"
  }
 },
 "nbformat": 4,
 "nbformat_minor": 2
}
